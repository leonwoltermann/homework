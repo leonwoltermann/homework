{
 "cells": [
  {
   "cell_type": "code",
   "execution_count": 1,
   "metadata": {},
   "outputs": [],
   "source": [
    "import os\n",
    "import re\n",
    "import numpy\n",
    "from pprint import pprint\n",
    "import pandas\n",
    "import matplotlib.pyplot as plt\n",
    "\n",
    "pandas.set_option(\"display.max_colwidth\", 50)"
   ]
  },
  {
   "cell_type": "code",
   "execution_count": 2,
   "metadata": {},
   "outputs": [],
   "source": [
    "dispatchFile = \"textList.csv\"\n",
    "dispatch = pandas.read_csv(dispatchFile, sep=\"\\t\", header=0)"
   ]
  },
  {
   "cell_type": "code",
   "execution_count": 6,
   "metadata": {},
   "outputs": [
    {
     "data": {
      "text/html": [
       "<div>\n",
       "<style scoped>\n",
       "    .dataframe tbody tr th:only-of-type {\n",
       "        vertical-align: middle;\n",
       "    }\n",
       "\n",
       "    .dataframe tbody tr th {\n",
       "        vertical-align: top;\n",
       "    }\n",
       "\n",
       "    .dataframe thead th {\n",
       "        text-align: right;\n",
       "    }\n",
       "</style>\n",
       "<table border=\"1\" class=\"dataframe\">\n",
       "  <thead>\n",
       "    <tr style=\"text-align: right;\">\n",
       "      <th></th>\n",
       "      <th>month</th>\n",
       "      <th>text</th>\n",
       "    </tr>\n",
       "  </thead>\n",
       "  <tbody>\n",
       "    <tr>\n",
       "      <th>0</th>\n",
       "      <td>1864-04-01</td>\n",
       "      <td>the news.;;; yesterday was an unusual dull day...</td>\n",
       "    </tr>\n",
       "    <tr>\n",
       "      <th>1</th>\n",
       "      <td>1864-04-01</td>\n",
       "      <td>yankee rule in plymouth.;;; the following orde...</td>\n",
       "    </tr>\n",
       "    <tr>\n",
       "      <th>2</th>\n",
       "      <td>1864-04-01</td>\n",
       "      <td>list of members of the next house of represent...</td>\n",
       "    </tr>\n",
       "    <tr>\n",
       "      <th>3</th>\n",
       "      <td>1864-04-01</td>\n",
       "      <td>provisions at the south.;;; --the mobile adver...</td>\n",
       "    </tr>\n",
       "    <tr>\n",
       "      <th>4</th>\n",
       "      <td>1864-04-01</td>\n",
       "      <td>impressive ceremony at dalton.;;; --a most int...</td>\n",
       "    </tr>\n",
       "    <tr>\n",
       "      <th>...</th>\n",
       "      <td>...</td>\n",
       "      <td>...</td>\n",
       "    </tr>\n",
       "    <tr>\n",
       "      <th>129847</th>\n",
       "      <td>1864-03-01</td>\n",
       "      <td>two hundred dollars reward;;; --will be paid f...</td>\n",
       "    </tr>\n",
       "    <tr>\n",
       "      <th>129848</th>\n",
       "      <td>1864-03-01</td>\n",
       "      <td>runaway;;; --from \"our house,\" saturday, 19th ...</td>\n",
       "    </tr>\n",
       "    <tr>\n",
       "      <th>129849</th>\n",
       "      <td>1864-03-01</td>\n",
       "      <td>runaway;;; -- $100 reward will be paid for the...</td>\n",
       "    </tr>\n",
       "    <tr>\n",
       "      <th>129850</th>\n",
       "      <td>1864-03-01</td>\n",
       "      <td>auction sales -- this day.</td>\n",
       "    </tr>\n",
       "    <tr>\n",
       "      <th>129851</th>\n",
       "      <td>1864-03-01</td>\n",
       "      <td>notices of indebted</td>\n",
       "    </tr>\n",
       "  </tbody>\n",
       "</table>\n",
       "<p>129852 rows × 2 columns</p>\n",
       "</div>"
      ],
      "text/plain": [
       "            month                                               text\n",
       "0      1864-04-01  the news.;;; yesterday was an unusual dull day...\n",
       "1      1864-04-01  yankee rule in plymouth.;;; the following orde...\n",
       "2      1864-04-01  list of members of the next house of represent...\n",
       "3      1864-04-01  provisions at the south.;;; --the mobile adver...\n",
       "4      1864-04-01  impressive ceremony at dalton.;;; --a most int...\n",
       "...           ...                                                ...\n",
       "129847 1864-03-01  two hundred dollars reward;;; --will be paid f...\n",
       "129848 1864-03-01  runaway;;; --from \"our house,\" saturday, 19th ...\n",
       "129849 1864-03-01  runaway;;; -- $100 reward will be paid for the...\n",
       "129850 1864-03-01                         auction sales -- this day.\n",
       "129851 1864-03-01                                notices of indebted\n",
       "\n",
       "[129852 rows x 2 columns]"
      ]
     },
     "execution_count": 6,
     "metadata": {},
     "output_type": "execute_result"
    }
   ],
   "source": [
    "dispatch"
   ]
  },
  {
   "cell_type": "code",
   "execution_count": 3,
   "metadata": {},
   "outputs": [],
   "source": [
    "dispatch[\"month\"] = [re.sub(\"-\\d\\d$\", \"-01\", str(i)) for i in dispatch[\"date\"]]\n",
    "# convert into date format\n",
    "dispatch[\"month\"] = pandas.to_datetime(dispatch[\"month\"], format=\"%Y-%m-%d\")\n",
    "dispatch[\"date\"] = pandas.to_datetime(dispatch[\"date\"], format=\"%Y-%m-%d\")\n",
    "\n",
    "# reorder columns\n",
    "dispatch = dispatch[[\"month\", \"text\"]]"
   ]
  },
  {
   "cell_type": "code",
   "execution_count": 7,
   "metadata": {},
   "outputs": [
    {
     "data": {
      "text/html": [
       "<div>\n",
       "<style scoped>\n",
       "    .dataframe tbody tr th:only-of-type {\n",
       "        vertical-align: middle;\n",
       "    }\n",
       "\n",
       "    .dataframe tbody tr th {\n",
       "        vertical-align: top;\n",
       "    }\n",
       "\n",
       "    .dataframe thead th {\n",
       "        text-align: right;\n",
       "    }\n",
       "</style>\n",
       "<table border=\"1\" class=\"dataframe\">\n",
       "  <thead>\n",
       "    <tr style=\"text-align: right;\">\n",
       "      <th></th>\n",
       "      <th>month</th>\n",
       "      <th>text</th>\n",
       "    </tr>\n",
       "  </thead>\n",
       "  <tbody>\n",
       "    <tr>\n",
       "      <th>0</th>\n",
       "      <td>1864-04-01</td>\n",
       "      <td>the news.;;; yesterday was an unusual dull day...</td>\n",
       "    </tr>\n",
       "    <tr>\n",
       "      <th>1</th>\n",
       "      <td>1864-04-01</td>\n",
       "      <td>yankee rule in plymouth.;;; the following orde...</td>\n",
       "    </tr>\n",
       "    <tr>\n",
       "      <th>2</th>\n",
       "      <td>1864-04-01</td>\n",
       "      <td>list of members of the next house of represent...</td>\n",
       "    </tr>\n",
       "    <tr>\n",
       "      <th>3</th>\n",
       "      <td>1864-04-01</td>\n",
       "      <td>provisions at the south.;;; --the mobile adver...</td>\n",
       "    </tr>\n",
       "    <tr>\n",
       "      <th>4</th>\n",
       "      <td>1864-04-01</td>\n",
       "      <td>impressive ceremony at dalton.;;; --a most int...</td>\n",
       "    </tr>\n",
       "    <tr>\n",
       "      <th>...</th>\n",
       "      <td>...</td>\n",
       "      <td>...</td>\n",
       "    </tr>\n",
       "    <tr>\n",
       "      <th>129847</th>\n",
       "      <td>1864-03-01</td>\n",
       "      <td>two hundred dollars reward;;; --will be paid f...</td>\n",
       "    </tr>\n",
       "    <tr>\n",
       "      <th>129848</th>\n",
       "      <td>1864-03-01</td>\n",
       "      <td>runaway;;; --from \"our house,\" saturday, 19th ...</td>\n",
       "    </tr>\n",
       "    <tr>\n",
       "      <th>129849</th>\n",
       "      <td>1864-03-01</td>\n",
       "      <td>runaway;;; -- $100 reward will be paid for the...</td>\n",
       "    </tr>\n",
       "    <tr>\n",
       "      <th>129850</th>\n",
       "      <td>1864-03-01</td>\n",
       "      <td>auction sales -- this day.</td>\n",
       "    </tr>\n",
       "    <tr>\n",
       "      <th>129851</th>\n",
       "      <td>1864-03-01</td>\n",
       "      <td>notices of indebted</td>\n",
       "    </tr>\n",
       "  </tbody>\n",
       "</table>\n",
       "<p>129852 rows × 2 columns</p>\n",
       "</div>"
      ],
      "text/plain": [
       "            month                                               text\n",
       "0      1864-04-01  the news.;;; yesterday was an unusual dull day...\n",
       "1      1864-04-01  yankee rule in plymouth.;;; the following orde...\n",
       "2      1864-04-01  list of members of the next house of represent...\n",
       "3      1864-04-01  provisions at the south.;;; --the mobile adver...\n",
       "4      1864-04-01  impressive ceremony at dalton.;;; --a most int...\n",
       "...           ...                                                ...\n",
       "129847 1864-03-01  two hundred dollars reward;;; --will be paid f...\n",
       "129848 1864-03-01  runaway;;; --from \"our house,\" saturday, 19th ...\n",
       "129849 1864-03-01  runaway;;; -- $100 reward will be paid for the...\n",
       "129850 1864-03-01                         auction sales -- this day.\n",
       "129851 1864-03-01                                notices of indebted\n",
       "\n",
       "[129852 rows x 2 columns]"
      ]
     },
     "execution_count": 7,
     "metadata": {},
     "output_type": "execute_result"
    }
   ],
   "source": [
    "dispatch"
   ]
  },
  {
   "cell_type": "code",
   "execution_count": 10,
   "metadata": {},
   "outputs": [
    {
     "data": {
      "text/plain": [
       "'\\nresult[\\'occur\\'] = result[\"text\"].str.count(var)\\nresult = result[[\"month\", \"occur\"]]\\n\\n\\naggregation = {\"occur\":\"sum\"}\\nresult = result.groupby(result[\\'month\\']).aggregate(aggregation)\\nresult = result.reset_index()\\n'"
      ]
     },
     "execution_count": 10,
     "metadata": {},
     "output_type": "execute_result"
    }
   ],
   "source": [
    "var = \"\\bdeserters?|killed|wounded\\b\"\n",
    "\n",
    "result = dispatch[dispatch[\"text\"].str.contains(var, regex = True)]\n",
    "result = result.reset_index()\n",
    "\n",
    "'''\n",
    "result['occur'] = result[\"text\"].str.count(var)\n",
    "result = result[[\"month\", \"occur\"]]\n",
    "\n",
    "\n",
    "aggregation = {\"occur\":\"sum\"}\n",
    "result = result.groupby(result['month']).aggregate(aggregation)\n",
    "result = result.reset_index()\n",
    "'''"
   ]
  },
  {
   "cell_type": "raw",
   "metadata": {},
   "source": [
    "result.head(10)"
   ]
  }
 ],
 "metadata": {
  "kernelspec": {
   "display_name": "Python 3",
   "language": "python",
   "name": "python3"
  },
  "language_info": {
   "codemirror_mode": {
    "name": "ipython",
    "version": 3
   },
   "file_extension": ".py",
   "mimetype": "text/x-python",
   "name": "python",
   "nbconvert_exporter": "python",
   "pygments_lexer": "ipython3",
   "version": "3.8.8"
  }
 },
 "nbformat": 4,
 "nbformat_minor": 2
}
