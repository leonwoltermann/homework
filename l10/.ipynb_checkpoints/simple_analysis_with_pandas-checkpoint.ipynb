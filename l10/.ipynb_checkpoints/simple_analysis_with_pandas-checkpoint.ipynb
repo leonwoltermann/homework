{
 "cells": [
  {
   "cell_type": "markdown",
   "id": "3289eaeb",
   "metadata": {},
   "source": [
    "Jupyter Notebook can be installed like this (<https://jupyter.org/install>):\n",
    "\n",
    "`python -m pip install notebook`\n",
    "\n",
    "It can be then opened by running the following command (from your working directory; make sure to restart your Terminal/Command Line after installation):\n",
    "\n",
    "`jupyter notebook`\n"
   ]
  },
  {
   "cell_type": "code",
   "execution_count": 11,
   "id": "de831349",
   "metadata": {},
   "outputs": [],
   "source": [
    "import os\n",
    "import re\n",
    "import numpy\n",
    "from pprint import pprint\n",
    "import pandas\n",
    "import matplotlib.pyplot as plt\n",
    "\n",
    "pandas.set_option(\"display.max_colwidth\", 50) # this is my comment\n"
   ]
  },
  {
   "cell_type": "markdown",
   "id": "cb196c70",
   "metadata": {},
   "source": [
    "Let's load our data here:"
   ]
  },
  {
   "cell_type": "code",
   "execution_count": 12,
   "id": "c9c45428",
   "metadata": {},
   "outputs": [
    {
     "ename": "ParserError",
     "evalue": "Error tokenizing data. C error: Expected 3 fields in line 9398, saw 4\n",
     "output_type": "error",
     "traceback": [
      "\u001b[0;31m---------------------------------------------------------------------------\u001b[0m",
      "\u001b[0;31mParserError\u001b[0m                               Traceback (most recent call last)",
      "\u001b[0;32m<ipython-input-12-492e0bc7379a>\u001b[0m in \u001b[0;36m<module>\u001b[0;34m\u001b[0m\n\u001b[1;32m      1\u001b[0m \u001b[0mdispatchFile\u001b[0m \u001b[0;34m=\u001b[0m \u001b[0;34m\"textList.csv\"\u001b[0m\u001b[0;34m\u001b[0m\u001b[0;34m\u001b[0m\u001b[0m\n\u001b[0;32m----> 2\u001b[0;31m \u001b[0mdispatch\u001b[0m \u001b[0;34m=\u001b[0m \u001b[0mpandas\u001b[0m\u001b[0;34m.\u001b[0m\u001b[0mread_csv\u001b[0m\u001b[0;34m(\u001b[0m\u001b[0mdispatchFile\u001b[0m\u001b[0;34m,\u001b[0m \u001b[0msep\u001b[0m\u001b[0;34m=\u001b[0m\u001b[0;34m\"\\t\"\u001b[0m\u001b[0;34m,\u001b[0m \u001b[0mheader\u001b[0m\u001b[0;34m=\u001b[0m\u001b[0;36m0\u001b[0m\u001b[0;34m)\u001b[0m\u001b[0;34m\u001b[0m\u001b[0;34m\u001b[0m\u001b[0m\n\u001b[0m",
      "\u001b[0;32m~/opt/anaconda3/lib/python3.8/site-packages/pandas/io/parsers.py\u001b[0m in \u001b[0;36mread_csv\u001b[0;34m(filepath_or_buffer, sep, delimiter, header, names, index_col, usecols, squeeze, prefix, mangle_dupe_cols, dtype, engine, converters, true_values, false_values, skipinitialspace, skiprows, skipfooter, nrows, na_values, keep_default_na, na_filter, verbose, skip_blank_lines, parse_dates, infer_datetime_format, keep_date_col, date_parser, dayfirst, cache_dates, iterator, chunksize, compression, thousands, decimal, lineterminator, quotechar, quoting, doublequote, escapechar, comment, encoding, dialect, error_bad_lines, warn_bad_lines, delim_whitespace, low_memory, memory_map, float_precision, storage_options)\u001b[0m\n\u001b[1;32m    608\u001b[0m     \u001b[0mkwds\u001b[0m\u001b[0;34m.\u001b[0m\u001b[0mupdate\u001b[0m\u001b[0;34m(\u001b[0m\u001b[0mkwds_defaults\u001b[0m\u001b[0;34m)\u001b[0m\u001b[0;34m\u001b[0m\u001b[0;34m\u001b[0m\u001b[0m\n\u001b[1;32m    609\u001b[0m \u001b[0;34m\u001b[0m\u001b[0m\n\u001b[0;32m--> 610\u001b[0;31m     \u001b[0;32mreturn\u001b[0m \u001b[0m_read\u001b[0m\u001b[0;34m(\u001b[0m\u001b[0mfilepath_or_buffer\u001b[0m\u001b[0;34m,\u001b[0m \u001b[0mkwds\u001b[0m\u001b[0;34m)\u001b[0m\u001b[0;34m\u001b[0m\u001b[0;34m\u001b[0m\u001b[0m\n\u001b[0m\u001b[1;32m    611\u001b[0m \u001b[0;34m\u001b[0m\u001b[0m\n\u001b[1;32m    612\u001b[0m \u001b[0;34m\u001b[0m\u001b[0m\n",
      "\u001b[0;32m~/opt/anaconda3/lib/python3.8/site-packages/pandas/io/parsers.py\u001b[0m in \u001b[0;36m_read\u001b[0;34m(filepath_or_buffer, kwds)\u001b[0m\n\u001b[1;32m    466\u001b[0m \u001b[0;34m\u001b[0m\u001b[0m\n\u001b[1;32m    467\u001b[0m     \u001b[0;32mwith\u001b[0m \u001b[0mparser\u001b[0m\u001b[0;34m:\u001b[0m\u001b[0;34m\u001b[0m\u001b[0;34m\u001b[0m\u001b[0m\n\u001b[0;32m--> 468\u001b[0;31m         \u001b[0;32mreturn\u001b[0m \u001b[0mparser\u001b[0m\u001b[0;34m.\u001b[0m\u001b[0mread\u001b[0m\u001b[0;34m(\u001b[0m\u001b[0mnrows\u001b[0m\u001b[0;34m)\u001b[0m\u001b[0;34m\u001b[0m\u001b[0;34m\u001b[0m\u001b[0m\n\u001b[0m\u001b[1;32m    469\u001b[0m \u001b[0;34m\u001b[0m\u001b[0m\n\u001b[1;32m    470\u001b[0m \u001b[0;34m\u001b[0m\u001b[0m\n",
      "\u001b[0;32m~/opt/anaconda3/lib/python3.8/site-packages/pandas/io/parsers.py\u001b[0m in \u001b[0;36mread\u001b[0;34m(self, nrows)\u001b[0m\n\u001b[1;32m   1055\u001b[0m     \u001b[0;32mdef\u001b[0m \u001b[0mread\u001b[0m\u001b[0;34m(\u001b[0m\u001b[0mself\u001b[0m\u001b[0;34m,\u001b[0m \u001b[0mnrows\u001b[0m\u001b[0;34m=\u001b[0m\u001b[0;32mNone\u001b[0m\u001b[0;34m)\u001b[0m\u001b[0;34m:\u001b[0m\u001b[0;34m\u001b[0m\u001b[0;34m\u001b[0m\u001b[0m\n\u001b[1;32m   1056\u001b[0m         \u001b[0mnrows\u001b[0m \u001b[0;34m=\u001b[0m \u001b[0mvalidate_integer\u001b[0m\u001b[0;34m(\u001b[0m\u001b[0;34m\"nrows\"\u001b[0m\u001b[0;34m,\u001b[0m \u001b[0mnrows\u001b[0m\u001b[0;34m)\u001b[0m\u001b[0;34m\u001b[0m\u001b[0;34m\u001b[0m\u001b[0m\n\u001b[0;32m-> 1057\u001b[0;31m         \u001b[0mindex\u001b[0m\u001b[0;34m,\u001b[0m \u001b[0mcolumns\u001b[0m\u001b[0;34m,\u001b[0m \u001b[0mcol_dict\u001b[0m \u001b[0;34m=\u001b[0m \u001b[0mself\u001b[0m\u001b[0;34m.\u001b[0m\u001b[0m_engine\u001b[0m\u001b[0;34m.\u001b[0m\u001b[0mread\u001b[0m\u001b[0;34m(\u001b[0m\u001b[0mnrows\u001b[0m\u001b[0;34m)\u001b[0m\u001b[0;34m\u001b[0m\u001b[0;34m\u001b[0m\u001b[0m\n\u001b[0m\u001b[1;32m   1058\u001b[0m \u001b[0;34m\u001b[0m\u001b[0m\n\u001b[1;32m   1059\u001b[0m         \u001b[0;32mif\u001b[0m \u001b[0mindex\u001b[0m \u001b[0;32mis\u001b[0m \u001b[0;32mNone\u001b[0m\u001b[0;34m:\u001b[0m\u001b[0;34m\u001b[0m\u001b[0;34m\u001b[0m\u001b[0m\n",
      "\u001b[0;32m~/opt/anaconda3/lib/python3.8/site-packages/pandas/io/parsers.py\u001b[0m in \u001b[0;36mread\u001b[0;34m(self, nrows)\u001b[0m\n\u001b[1;32m   2059\u001b[0m     \u001b[0;32mdef\u001b[0m \u001b[0mread\u001b[0m\u001b[0;34m(\u001b[0m\u001b[0mself\u001b[0m\u001b[0;34m,\u001b[0m \u001b[0mnrows\u001b[0m\u001b[0;34m=\u001b[0m\u001b[0;32mNone\u001b[0m\u001b[0;34m)\u001b[0m\u001b[0;34m:\u001b[0m\u001b[0;34m\u001b[0m\u001b[0;34m\u001b[0m\u001b[0m\n\u001b[1;32m   2060\u001b[0m         \u001b[0;32mtry\u001b[0m\u001b[0;34m:\u001b[0m\u001b[0;34m\u001b[0m\u001b[0;34m\u001b[0m\u001b[0m\n\u001b[0;32m-> 2061\u001b[0;31m             \u001b[0mdata\u001b[0m \u001b[0;34m=\u001b[0m \u001b[0mself\u001b[0m\u001b[0;34m.\u001b[0m\u001b[0m_reader\u001b[0m\u001b[0;34m.\u001b[0m\u001b[0mread\u001b[0m\u001b[0;34m(\u001b[0m\u001b[0mnrows\u001b[0m\u001b[0;34m)\u001b[0m\u001b[0;34m\u001b[0m\u001b[0;34m\u001b[0m\u001b[0m\n\u001b[0m\u001b[1;32m   2062\u001b[0m         \u001b[0;32mexcept\u001b[0m \u001b[0mStopIteration\u001b[0m\u001b[0;34m:\u001b[0m\u001b[0;34m\u001b[0m\u001b[0;34m\u001b[0m\u001b[0m\n\u001b[1;32m   2063\u001b[0m             \u001b[0;32mif\u001b[0m \u001b[0mself\u001b[0m\u001b[0;34m.\u001b[0m\u001b[0m_first_chunk\u001b[0m\u001b[0;34m:\u001b[0m\u001b[0;34m\u001b[0m\u001b[0;34m\u001b[0m\u001b[0m\n",
      "\u001b[0;32mpandas/_libs/parsers.pyx\u001b[0m in \u001b[0;36mpandas._libs.parsers.TextReader.read\u001b[0;34m()\u001b[0m\n",
      "\u001b[0;32mpandas/_libs/parsers.pyx\u001b[0m in \u001b[0;36mpandas._libs.parsers.TextReader._read_low_memory\u001b[0;34m()\u001b[0m\n",
      "\u001b[0;32mpandas/_libs/parsers.pyx\u001b[0m in \u001b[0;36mpandas._libs.parsers.TextReader._read_rows\u001b[0;34m()\u001b[0m\n",
      "\u001b[0;32mpandas/_libs/parsers.pyx\u001b[0m in \u001b[0;36mpandas._libs.parsers.TextReader._tokenize_rows\u001b[0;34m()\u001b[0m\n",
      "\u001b[0;32mpandas/_libs/parsers.pyx\u001b[0m in \u001b[0;36mpandas._libs.parsers.raise_parser_error\u001b[0;34m()\u001b[0m\n",
      "\u001b[0;31mParserError\u001b[0m: Error tokenizing data. C error: Expected 3 fields in line 9398, saw 4\n"
     ]
    }
   ],
   "source": [
    "dispatchFile = \"textList.csv\"\n",
    "dispatch = pandas.read_csv(dispatchFile, sep=\"\\t\", header=0)"
   ]
  },
  {
   "cell_type": "markdown",
   "id": "8234e8ff",
   "metadata": {},
   "source": [
    "Let's do some minor modification: add a column with all dates of each month changed to 1 (we can use that to aggregate our data into months)"
   ]
  },
  {
   "cell_type": "code",
   "execution_count": 3,
   "id": "01513dd9",
   "metadata": {},
   "outputs": [],
   "source": [
    "dispatch[\"month\"] = [re.sub(\"-\\d\\d$\", \"-01\", str(i)) for i in dispatch[\"date\"]]\n",
    "# convert into date format\n",
    "dispatch[\"month\"] = pandas.to_datetime(dispatch[\"month\"], format=\"%Y-%m-%d\")\n",
    "dispatch[\"date\"] = pandas.to_datetime(dispatch[\"date\"], format=\"%Y-%m-%d\")\n",
    "\n",
    "# reorder columns\n",
    "dispatch = dispatch[[\"month\", \"date\", \"itemID\", \"text\"]]"
   ]
  },
  {
   "cell_type": "code",
   "execution_count": 4,
   "id": "cd93504e",
   "metadata": {},
   "outputs": [
    {
     "data": {
      "text/html": [
       "<div>\n",
       "<style scoped>\n",
       "    .dataframe tbody tr th:only-of-type {\n",
       "        vertical-align: middle;\n",
       "    }\n",
       "\n",
       "    .dataframe tbody tr th {\n",
       "        vertical-align: top;\n",
       "    }\n",
       "\n",
       "    .dataframe thead th {\n",
       "        text-align: right;\n",
       "    }\n",
       "</style>\n",
       "<table border=\"1\" class=\"dataframe\">\n",
       "  <thead>\n",
       "    <tr style=\"text-align: right;\">\n",
       "      <th></th>\n",
       "      <th>month</th>\n",
       "      <th>date</th>\n",
       "      <th>itemType</th>\n",
       "      <th>itemUnified</th>\n",
       "      <th>itemID</th>\n",
       "    </tr>\n",
       "  </thead>\n",
       "  <tbody>\n",
       "    <tr>\n",
       "      <th>0</th>\n",
       "      <td>1864-04-01</td>\n",
       "      <td>1864-04-28</td>\n",
       "      <td>placename</td>\n",
       "      <td>gordonsville, orange, virginia</td>\n",
       "      <td>1864-04-28_article_001</td>\n",
       "    </tr>\n",
       "    <tr>\n",
       "      <th>1</th>\n",
       "      <td>1864-04-01</td>\n",
       "      <td>1864-04-28</td>\n",
       "      <td>placename</td>\n",
       "      <td>plymouth, washington, north carolina</td>\n",
       "      <td>1864-04-28_article_002</td>\n",
       "    </tr>\n",
       "    <tr>\n",
       "      <th>2</th>\n",
       "      <td>1864-04-01</td>\n",
       "      <td>1864-04-28</td>\n",
       "      <td>placename</td>\n",
       "      <td>plymouth, washington, north carolina</td>\n",
       "      <td>1864-04-28_article_002</td>\n",
       "    </tr>\n",
       "    <tr>\n",
       "      <th>3</th>\n",
       "      <td>1864-04-01</td>\n",
       "      <td>1864-04-28</td>\n",
       "      <td>persname</td>\n",
       "      <td>wessels,brigadier-general,,,,</td>\n",
       "      <td>1864-04-28_article_002</td>\n",
       "    </tr>\n",
       "    <tr>\n",
       "      <th>4</th>\n",
       "      <td>1864-04-01</td>\n",
       "      <td>1864-04-28</td>\n",
       "      <td>persname</td>\n",
       "      <td>lincoln,,,,,</td>\n",
       "      <td>1864-04-28_article_002</td>\n",
       "    </tr>\n",
       "    <tr>\n",
       "      <th>5</th>\n",
       "      <td>1864-04-01</td>\n",
       "      <td>1864-04-28</td>\n",
       "      <td>placename</td>\n",
       "      <td>plymouth, washington, north carolina</td>\n",
       "      <td>1864-04-28_article_002</td>\n",
       "    </tr>\n",
       "    <tr>\n",
       "      <th>6</th>\n",
       "      <td>1864-04-01</td>\n",
       "      <td>1864-04-28</td>\n",
       "      <td>persname</td>\n",
       "      <td>moffitt,colonel,,,,</td>\n",
       "      <td>1864-04-28_article_002</td>\n",
       "    </tr>\n",
       "    <tr>\n",
       "      <th>7</th>\n",
       "      <td>1864-04-01</td>\n",
       "      <td>1864-04-28</td>\n",
       "      <td>placename</td>\n",
       "      <td>plymouth, washington, north carolina</td>\n",
       "      <td>1864-04-28_article_002</td>\n",
       "    </tr>\n",
       "    <tr>\n",
       "      <th>8</th>\n",
       "      <td>1864-04-01</td>\n",
       "      <td>1864-04-28</td>\n",
       "      <td>orgname</td>\n",
       "      <td>free school</td>\n",
       "      <td>1864-04-28_article_002</td>\n",
       "    </tr>\n",
       "    <tr>\n",
       "      <th>9</th>\n",
       "      <td>1864-04-01</td>\n",
       "      <td>1864-04-28</td>\n",
       "      <td>orgname</td>\n",
       "      <td>episcopal church</td>\n",
       "      <td>1864-04-28_article_002</td>\n",
       "    </tr>\n",
       "  </tbody>\n",
       "</table>\n",
       "</div>"
      ],
      "text/plain": [
       "       month       date   itemType                           itemUnified  \\\n",
       "0 1864-04-01 1864-04-28  placename        gordonsville, orange, virginia   \n",
       "1 1864-04-01 1864-04-28  placename  plymouth, washington, north carolina   \n",
       "2 1864-04-01 1864-04-28  placename  plymouth, washington, north carolina   \n",
       "3 1864-04-01 1864-04-28   persname         wessels,brigadier-general,,,,   \n",
       "4 1864-04-01 1864-04-28   persname                          lincoln,,,,,   \n",
       "5 1864-04-01 1864-04-28  placename  plymouth, washington, north carolina   \n",
       "6 1864-04-01 1864-04-28   persname                   moffitt,colonel,,,,   \n",
       "7 1864-04-01 1864-04-28  placename  plymouth, washington, north carolina   \n",
       "8 1864-04-01 1864-04-28    orgname                           free school   \n",
       "9 1864-04-01 1864-04-28    orgname                      episcopal church   \n",
       "\n",
       "                   itemID  \n",
       "0  1864-04-28_article_001  \n",
       "1  1864-04-28_article_002  \n",
       "2  1864-04-28_article_002  \n",
       "3  1864-04-28_article_002  \n",
       "4  1864-04-28_article_002  \n",
       "5  1864-04-28_article_002  \n",
       "6  1864-04-28_article_002  \n",
       "7  1864-04-28_article_002  \n",
       "8  1864-04-28_article_002  \n",
       "9  1864-04-28_article_002  "
      ]
     },
     "execution_count": 4,
     "metadata": {},
     "output_type": "execute_result"
    }
   ],
   "source": [
    "dispatch.head(10)"
   ]
  },
  {
   "cell_type": "markdown",
   "id": "9fddc441",
   "metadata": {},
   "source": [
    "We can easily count frequencies in the following manner:"
   ]
  },
  {
   "cell_type": "code",
   "execution_count": 5,
   "id": "f3911d78",
   "metadata": {},
   "outputs": [
    {
     "data": {
      "text/plain": [
       "richmond, richmond, virginia                          32551\n",
       "united states                                         19152\n",
       "virginia, united states, north and central america    11042\n",
       "washington, district of columbia, united states        8949\n",
       "virginia                                               7267\n",
       "                                                      ...  \n",
       "brooke,,j.,m.,,                                           1\n",
       "robertson,,david,m.,,                                     1\n",
       "hallie,miss,,,,                                           1\n",
       "houser,sergeant,jos,,,                                    1\n",
       "wardsworth,,john,e.,,                                     1\n",
       "Name: itemUnified, Length: 147697, dtype: int64"
      ]
     },
     "execution_count": 5,
     "metadata": {},
     "output_type": "execute_result"
    }
   ],
   "source": [
    "dispatch['itemUnified'].value_counts()"
   ]
  },
  {
   "cell_type": "markdown",
   "id": "8f39607c",
   "metadata": {},
   "source": [
    "We can also look at a larger part of the table by giving the range of the table:"
   ]
  },
  {
   "cell_type": "code",
   "execution_count": 6,
   "id": "51e7e4fb",
   "metadata": {
    "scrolled": true
   },
   "outputs": [
    {
     "data": {
      "text/plain": [
       "richmond, richmond, virginia                          32551\n",
       "united states                                         19152\n",
       "virginia, united states, north and central america    11042\n",
       "washington, district of columbia, united states        8949\n",
       "virginia                                               7267\n",
       "charleston, charleston, south carolina                 6943\n",
       "united kingdom                                         6539\n",
       "richmond dispatch                                      5161\n",
       "lincoln,,,,,                                           4681\n",
       "tennessee                                              4366\n",
       "kentucky                                               4194\n",
       "baltimore, baltimore independent city, maryland        4065\n",
       "petersburg, petersburg, virginia                       4062\n",
       "north carolina                                         4022\n",
       "europe,                                                4020\n",
       "maryland                                               3950\n",
       "norfolk, norfolk, virginia                             3679\n",
       "south carolina                                         3619\n",
       "georgia                                                3583\n",
       "france                                                 3320\n",
       ",                                                      3282\n",
       "missouri                                               2656\n",
       "fredericksburg, fredericksburg, virginia               2588\n",
       "grant,,,,,                                             2347\n",
       "philadelphia, philadelphia, pennsylvania               2303\n",
       "vicksburg, warren, mississippi                         2157\n",
       "alabama                                                2100\n",
       "lee,general,,,,                                        2070\n",
       "lynchburg, lynchburg, virginia                         2015\n",
       "hustings court                                         2002\n",
       "mobile, mobile, alabama                                1964\n",
       "mcclellan,,,,,                                         1963\n",
       "mississippi                                            1923\n",
       "manassas, manassas, virginia                           1918\n",
       "east nashville, davidson, tennessee                    1882\n",
       "lee,,,,,                                               1870\n",
       "fortress monroe, hampton, virginia                     1859\n",
       "savannah, chatham, georgia                             1845\n",
       "texas                                                  1836\n",
       "southern confederacy                                   1812\n",
       "alexandria, alexandria, virginia                       1768\n",
       "louisiana                                              1762\n",
       "sherman,,,,,                                           1733\n",
       "henrico, virginia                                      1705\n",
       "general assembly                                       1655\n",
       "winchester, winchester, virginia                       1605\n",
       "winder,,,,,                                            1600\n",
       "war department                                         1589\n",
       "new york herald                                        1554\n",
       "treasury department                                    1552\n",
       "Name: itemUnified, dtype: int64"
      ]
     },
     "execution_count": 6,
     "metadata": {},
     "output_type": "execute_result"
    }
   ],
   "source": [
    "dispatch['itemUnified'].value_counts().head(50)"
   ]
  },
  {
   "cell_type": "code",
   "execution_count": 7,
   "id": "bd44f441",
   "metadata": {},
   "outputs": [
    {
     "ename": "NameError",
     "evalue": "name 'dispatch_persons' is not defined",
     "output_type": "error",
     "traceback": [
      "\u001b[0;31m---------------------------------------------------------------------------\u001b[0m",
      "\u001b[0;31mNameError\u001b[0m                                 Traceback (most recent call last)",
      "\u001b[0;32m<ipython-input-7-8dd6e352183b>\u001b[0m in \u001b[0;36m<module>\u001b[0;34m\u001b[0m\n\u001b[1;32m      1\u001b[0m \u001b[0mvar\u001b[0m \u001b[0;34m=\u001b[0m \u001b[0;34m\"grant\"\u001b[0m \u001b[0;31m# this is our variable\u001b[0m\u001b[0;34m\u001b[0m\u001b[0;34m\u001b[0m\u001b[0m\n\u001b[1;32m      2\u001b[0m \u001b[0;34m\u001b[0m\u001b[0m\n\u001b[0;32m----> 3\u001b[0;31m \u001b[0mresults\u001b[0m \u001b[0;34m=\u001b[0m \u001b[0mdispatch_persons\u001b[0m\u001b[0;34m[\u001b[0m\u001b[0mdispatch_persons\u001b[0m\u001b[0;34m.\u001b[0m\u001b[0mitemUnified\u001b[0m\u001b[0;34m.\u001b[0m\u001b[0mstr\u001b[0m\u001b[0;34m.\u001b[0m\u001b[0mcontains\u001b[0m\u001b[0;34m(\u001b[0m\u001b[0mvar\u001b[0m\u001b[0;34m)\u001b[0m\u001b[0;34m]\u001b[0m \u001b[0;31m# selects only rows where itemUnified contains our `var`;\u001b[0m\u001b[0;34m\u001b[0m\u001b[0;34m\u001b[0m\u001b[0m\n\u001b[0m\u001b[1;32m      4\u001b[0m \u001b[0mresults\u001b[0m \u001b[0;34m=\u001b[0m \u001b[0mresults\u001b[0m\u001b[0;34m[\u001b[0m\u001b[0;34m[\u001b[0m\u001b[0;34m\"month\"\u001b[0m\u001b[0;34m,\u001b[0m \u001b[0;34m\"itemType\"\u001b[0m\u001b[0;34m]\u001b[0m\u001b[0;34m]\u001b[0m \u001b[0;31m# selecting only two columns (making our table smaller);\u001b[0m\u001b[0;34m\u001b[0m\u001b[0;34m\u001b[0m\u001b[0m\n\u001b[1;32m      5\u001b[0m \u001b[0mresults\u001b[0m \u001b[0;34m=\u001b[0m \u001b[0mresults\u001b[0m\u001b[0;34m.\u001b[0m\u001b[0mgroupby\u001b[0m\u001b[0;34m(\u001b[0m\u001b[0;34m[\u001b[0m\u001b[0;34m\"month\"\u001b[0m\u001b[0;34m]\u001b[0m\u001b[0;34m)\u001b[0m\u001b[0;34m.\u001b[0m\u001b[0mcount\u001b[0m\u001b[0;34m(\u001b[0m\u001b[0;34m)\u001b[0m \u001b[0;31m# counting all occurences of our `var` during each month;\u001b[0m\u001b[0;34m\u001b[0m\u001b[0;34m\u001b[0m\u001b[0m\n",
      "\u001b[0;31mNameError\u001b[0m: name 'dispatch_persons' is not defined"
     ]
    }
   ],
   "source": [
    "var = \"grant\" # this is our variable\n",
    "\n",
    "results = dispatch_persons[dispatch_persons.itemUnified.str.contains(var)] # selects only rows where itemUnified contains our `var`;\n",
    "results = results[[\"month\", \"itemType\"]] # selecting only two columns (making our table smaller);\n",
    "results = results.groupby([\"month\"]).count() # counting all occurences of our `var` during each month;\n",
    "results = results.reset_index() # this resets the index of the dataframe (necessary step);\n",
    "results[var] = results[\"itemType\"] # here we create a new column named with our `var`\n",
    "results = results[[\"month\", var]] # again, select only necessary columns\n",
    "\n",
    "results.head(10)"
   ]
  },
  {
   "cell_type": "markdown",
   "id": "9f5cca26",
   "metadata": {},
   "source": [
    "We can also create a subset to focus only on persons (or anything else)"
   ]
  },
  {
   "cell_type": "code",
   "execution_count": 29,
   "id": "a0f4fa49",
   "metadata": {},
   "outputs": [],
   "source": [
    "dispatch_persons = dispatch[dispatch[\"itemType\"] == \"persname\"]"
   ]
  },
  {
   "cell_type": "code",
   "execution_count": 30,
   "id": "63861664",
   "metadata": {},
   "outputs": [
    {
     "ename": "KeyError",
     "evalue": "'itemId'",
     "output_type": "error",
     "traceback": [
      "\u001b[0;31m---------------------------------------------------------------------------\u001b[0m",
      "\u001b[0;31mKeyError\u001b[0m                                  Traceback (most recent call last)",
      "\u001b[0;32m~/opt/anaconda3/lib/python3.8/site-packages/pandas/core/indexes/base.py\u001b[0m in \u001b[0;36mget_loc\u001b[0;34m(self, key, method, tolerance)\u001b[0m\n\u001b[1;32m   3079\u001b[0m             \u001b[0;32mtry\u001b[0m\u001b[0;34m:\u001b[0m\u001b[0;34m\u001b[0m\u001b[0;34m\u001b[0m\u001b[0m\n\u001b[0;32m-> 3080\u001b[0;31m                 \u001b[0;32mreturn\u001b[0m \u001b[0mself\u001b[0m\u001b[0;34m.\u001b[0m\u001b[0m_engine\u001b[0m\u001b[0;34m.\u001b[0m\u001b[0mget_loc\u001b[0m\u001b[0;34m(\u001b[0m\u001b[0mcasted_key\u001b[0m\u001b[0;34m)\u001b[0m\u001b[0;34m\u001b[0m\u001b[0;34m\u001b[0m\u001b[0m\n\u001b[0m\u001b[1;32m   3081\u001b[0m             \u001b[0;32mexcept\u001b[0m \u001b[0mKeyError\u001b[0m \u001b[0;32mas\u001b[0m \u001b[0merr\u001b[0m\u001b[0;34m:\u001b[0m\u001b[0;34m\u001b[0m\u001b[0;34m\u001b[0m\u001b[0m\n",
      "\u001b[0;32mpandas/_libs/index.pyx\u001b[0m in \u001b[0;36mpandas._libs.index.IndexEngine.get_loc\u001b[0;34m()\u001b[0m\n",
      "\u001b[0;32mpandas/_libs/index.pyx\u001b[0m in \u001b[0;36mpandas._libs.index.IndexEngine.get_loc\u001b[0;34m()\u001b[0m\n",
      "\u001b[0;32mpandas/_libs/hashtable_class_helper.pxi\u001b[0m in \u001b[0;36mpandas._libs.hashtable.PyObjectHashTable.get_item\u001b[0;34m()\u001b[0m\n",
      "\u001b[0;32mpandas/_libs/hashtable_class_helper.pxi\u001b[0m in \u001b[0;36mpandas._libs.hashtable.PyObjectHashTable.get_item\u001b[0;34m()\u001b[0m\n",
      "\u001b[0;31mKeyError\u001b[0m: 'itemId'",
      "\nThe above exception was the direct cause of the following exception:\n",
      "\u001b[0;31mKeyError\u001b[0m                                  Traceback (most recent call last)",
      "\u001b[0;32m<ipython-input-30-e8a6b4d128ba>\u001b[0m in \u001b[0;36m<module>\u001b[0;34m\u001b[0m\n\u001b[0;32m----> 1\u001b[0;31m \u001b[0mdispatch_persons\u001b[0m\u001b[0;34m[\u001b[0m\u001b[0;34m'itemId'\u001b[0m\u001b[0;34m]\u001b[0m\u001b[0;34m.\u001b[0m\u001b[0mvalue_counts\u001b[0m\u001b[0;34m(\u001b[0m\u001b[0;34m)\u001b[0m\u001b[0;34m.\u001b[0m\u001b[0mhead\u001b[0m\u001b[0;34m(\u001b[0m\u001b[0;36m50\u001b[0m\u001b[0;34m)\u001b[0m\u001b[0;34m\u001b[0m\u001b[0;34m\u001b[0m\u001b[0m\n\u001b[0m",
      "\u001b[0;32m~/opt/anaconda3/lib/python3.8/site-packages/pandas/core/frame.py\u001b[0m in \u001b[0;36m__getitem__\u001b[0;34m(self, key)\u001b[0m\n\u001b[1;32m   3022\u001b[0m             \u001b[0;32mif\u001b[0m \u001b[0mself\u001b[0m\u001b[0;34m.\u001b[0m\u001b[0mcolumns\u001b[0m\u001b[0;34m.\u001b[0m\u001b[0mnlevels\u001b[0m \u001b[0;34m>\u001b[0m \u001b[0;36m1\u001b[0m\u001b[0;34m:\u001b[0m\u001b[0;34m\u001b[0m\u001b[0;34m\u001b[0m\u001b[0m\n\u001b[1;32m   3023\u001b[0m                 \u001b[0;32mreturn\u001b[0m \u001b[0mself\u001b[0m\u001b[0;34m.\u001b[0m\u001b[0m_getitem_multilevel\u001b[0m\u001b[0;34m(\u001b[0m\u001b[0mkey\u001b[0m\u001b[0;34m)\u001b[0m\u001b[0;34m\u001b[0m\u001b[0;34m\u001b[0m\u001b[0m\n\u001b[0;32m-> 3024\u001b[0;31m             \u001b[0mindexer\u001b[0m \u001b[0;34m=\u001b[0m \u001b[0mself\u001b[0m\u001b[0;34m.\u001b[0m\u001b[0mcolumns\u001b[0m\u001b[0;34m.\u001b[0m\u001b[0mget_loc\u001b[0m\u001b[0;34m(\u001b[0m\u001b[0mkey\u001b[0m\u001b[0;34m)\u001b[0m\u001b[0;34m\u001b[0m\u001b[0;34m\u001b[0m\u001b[0m\n\u001b[0m\u001b[1;32m   3025\u001b[0m             \u001b[0;32mif\u001b[0m \u001b[0mis_integer\u001b[0m\u001b[0;34m(\u001b[0m\u001b[0mindexer\u001b[0m\u001b[0;34m)\u001b[0m\u001b[0;34m:\u001b[0m\u001b[0;34m\u001b[0m\u001b[0;34m\u001b[0m\u001b[0m\n\u001b[1;32m   3026\u001b[0m                 \u001b[0mindexer\u001b[0m \u001b[0;34m=\u001b[0m \u001b[0;34m[\u001b[0m\u001b[0mindexer\u001b[0m\u001b[0;34m]\u001b[0m\u001b[0;34m\u001b[0m\u001b[0;34m\u001b[0m\u001b[0m\n",
      "\u001b[0;32m~/opt/anaconda3/lib/python3.8/site-packages/pandas/core/indexes/base.py\u001b[0m in \u001b[0;36mget_loc\u001b[0;34m(self, key, method, tolerance)\u001b[0m\n\u001b[1;32m   3080\u001b[0m                 \u001b[0;32mreturn\u001b[0m \u001b[0mself\u001b[0m\u001b[0;34m.\u001b[0m\u001b[0m_engine\u001b[0m\u001b[0;34m.\u001b[0m\u001b[0mget_loc\u001b[0m\u001b[0;34m(\u001b[0m\u001b[0mcasted_key\u001b[0m\u001b[0;34m)\u001b[0m\u001b[0;34m\u001b[0m\u001b[0;34m\u001b[0m\u001b[0m\n\u001b[1;32m   3081\u001b[0m             \u001b[0;32mexcept\u001b[0m \u001b[0mKeyError\u001b[0m \u001b[0;32mas\u001b[0m \u001b[0merr\u001b[0m\u001b[0;34m:\u001b[0m\u001b[0;34m\u001b[0m\u001b[0;34m\u001b[0m\u001b[0m\n\u001b[0;32m-> 3082\u001b[0;31m                 \u001b[0;32mraise\u001b[0m \u001b[0mKeyError\u001b[0m\u001b[0;34m(\u001b[0m\u001b[0mkey\u001b[0m\u001b[0;34m)\u001b[0m \u001b[0;32mfrom\u001b[0m \u001b[0merr\u001b[0m\u001b[0;34m\u001b[0m\u001b[0;34m\u001b[0m\u001b[0m\n\u001b[0m\u001b[1;32m   3083\u001b[0m \u001b[0;34m\u001b[0m\u001b[0m\n\u001b[1;32m   3084\u001b[0m         \u001b[0;32mif\u001b[0m \u001b[0mtolerance\u001b[0m \u001b[0;32mis\u001b[0m \u001b[0;32mnot\u001b[0m \u001b[0;32mNone\u001b[0m\u001b[0;34m:\u001b[0m\u001b[0;34m\u001b[0m\u001b[0;34m\u001b[0m\u001b[0m\n",
      "\u001b[0;31mKeyError\u001b[0m: 'itemId'"
     ]
    }
   ],
   "source": [
    "dispatch_persons['itemId'].value_counts().head(50)"
   ]
  },
  {
   "cell_type": "markdown",
   "id": "5ad97cfb",
   "metadata": {},
   "source": [
    "In the following few lines of code we can:\n",
    "\n",
    "- filter our results to pick only the values that we need;\n",
    "- then plot them on a graph to see how our selected values behaved over time;"
   ]
  },
  {
   "cell_type": "markdown",
   "id": "131d70e6",
   "metadata": {},
   "source": [
    "We can now plot this data onto a graph, where `month` will be on the x-axis, and the counts of our `var` will be mapped on the y-axis."
   ]
  },
  {
   "cell_type": "code",
   "execution_count": 25,
   "id": "d734d813",
   "metadata": {
    "scrolled": true
   },
   "outputs": [
    {
     "data": {
      "text/plain": [
       "<AxesSubplot:xlabel='month'>"
      ]
     },
     "execution_count": 25,
     "metadata": {},
     "output_type": "execute_result"
    },
    {
     "data": {
      "image/png": "[encoded data removed]",
      "text/plain": [
       "<Figure size 1440x648 with 1 Axes>"
      ]
     },
     "metadata": {
      "needs_background": "light"
     },
     "output_type": "display_data"
    }
   ],
   "source": [
    "# Plotting directly from DataFrames with Pandas; this section alon is actually enough\n",
    "results.plot(\n",
    "    x='month', \n",
    "    y=var,  \n",
    "    legend=True, \n",
    "    color='red'\n",
    ")"
   ]
  },
  {
   "cell_type": "markdown",
   "id": "f36db3ea",
   "metadata": {},
   "source": [
    "The code above is sufficient to print the graph out, but we can also customize how it\n",
    "looks with the following additional lines of code. You can play around with the parameters to change how it looks (you may need to google for soem additional parameters):"
   ]
  },
  {
   "cell_type": "code",
   "execution_count": 13,
   "id": "7d80454a",
   "metadata": {},
   "outputs": [
    {
     "data": {
      "image/png": "[encoded data removed]",
      "text/plain": [
       "<Figure size 432x288 with 1 Axes>"
      ]
     },
     "metadata": {
      "needs_background": "light"
     },
     "output_type": "display_data"
    }
   ],
   "source": [
    "results.plot(\n",
    "    x='month', \n",
    "    y=var,  \n",
    "    legend=True, \n",
    "    color='blue'\n",
    ")\n",
    "\n",
    "plt.rcParams[\"figure.figsize\"] = (20,9)\n",
    "plt.ylabel(\"Frequency of mention\")\n",
    "plt.xlabel(\"Dates\")\n",
    "plt.title(var)\n",
    "plt.gca().yaxis.grid(linestyle=':')"
   ]
  },
  {
   "cell_type": "markdown",
   "id": "472b9bfb",
   "metadata": {},
   "source": [
    "Now, we can reuse the following chunk of code to test multiple variables:"
   ]
  },
  {
   "cell_type": "code",
   "execution_count": 14,
   "id": "3d5bdf67",
   "metadata": {},
   "outputs": [
    {
     "data": {
      "image/png": "[encoded data removed]",
      "text/plain": [
       "<Figure size 1440x648 with 1 Axes>"
      ]
     },
     "metadata": {
      "needs_background": "light"
     },
     "output_type": "display_data"
    }
   ],
   "source": [
    "var = \"winder\" # this is our variable\n",
    "\n",
    "results = dispatch_persons[dispatch_persons.itemUnified.str.contains(var)] # selects only rows where itemUnified contains our `var`;\n",
    "results = results[[\"month\", \"itemType\"]] # selecting only two columns (making our table smaller);\n",
    "results = results.groupby([\"month\"]).count() # counting all occurences of our `var` during each month;\n",
    "results = results.reset_index() # this resets the index of the dataframe (necessary step);\n",
    "results[var] = results[\"itemType\"] # here we create a new column named with our `var`\n",
    "results = results[[\"month\", var]] # again, select only necessary columns\n",
    "\n",
    "results.plot(\n",
    "    x='month', \n",
    "    y=var,  \n",
    "    legend=True, \n",
    "    color='blue'\n",
    ")\n",
    "\n",
    "plt.rcParams[\"figure.figsize\"] = (20,9)\n",
    "plt.ylabel(\"Frequency of mention\")\n",
    "plt.xlabel(\"Dates\")\n",
    "plt.title(var)\n",
    "plt.gca().yaxis.grid(linestyle=':')"
   ]
  }
 ],
 "metadata": {
  "kernelspec": {
   "display_name": "Python 3",
   "language": "python",
   "name": "python3"
  },
  "language_info": {
   "codemirror_mode": {
    "name": "ipython",
    "version": 3
   },
   "file_extension": ".py",
   "mimetype": "text/x-python",
   "name": "python",
   "nbconvert_exporter": "python",
   "pygments_lexer": "ipython3",
   "version": "3.8.8"
  }
 },
 "nbformat": 4,
 "nbformat_minor": 5
}
