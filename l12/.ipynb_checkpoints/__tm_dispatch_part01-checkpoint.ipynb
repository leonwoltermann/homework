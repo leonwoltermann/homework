{
 "cells": [
  {
   "cell_type": "markdown",
   "metadata": {},
   "source": [
    "# Topic Modeling the Dispatch — Part I"
   ]
  },
  {
   "cell_type": "markdown",
   "metadata": {},
   "source": [
    "Run in terminal or command prompt\n",
    "`python -m spacy download en`"
   ]
  },
  {
   "cell_type": "markdown",
   "metadata": {},
   "source": [
    "The core packages used in this tutorial are `nltk`, `re`, `gensim`, `spacy` and `pyLDAvis`. Besides this we will also using `matplotlib`, `numpy`, `pandas` and `plotly` for data handling and visualization. Let’s import them."
   ]
  },
  {
   "cell_type": "markdown",
   "metadata": {},
   "source": [
    "(to install and run jupyter notebooks, see: <https://www.csestack.org/install-use-jupyter-notebook-python-example/>)"
   ]
  },
  {
   "cell_type": "code",
   "execution_count": 1,
   "metadata": {},
   "outputs": [
    {
     "name": "stdout",
     "output_type": "stream",
     "text": [
      "CPU times: user 541 ms, sys: 253 ms, total: 793 ms\n",
      "Wall time: 1.29 s\n"
     ]
    }
   ],
   "source": [
    "%%time\n",
    "import nltk\n",
    "#nltk.download('stopwords')\n"
   ]
  },
  {
   "cell_type": "markdown",
   "metadata": {},
   "source": [
    "We'll also need some libraries for data manipulation and visualization: `matplotlib`, `numpy` and `pandas`."
   ]
  },
  {
   "cell_type": "code",
   "execution_count": 2,
   "metadata": {},
   "outputs": [],
   "source": [
    "import re\n",
    "import numpy\n",
    "import pandas\n",
    "pandas.set_option(\"display.max_colwidth\", 30)\n",
    "from pprint import pprint"
   ]
  },
  {
   "cell_type": "code",
   "execution_count": 3,
   "metadata": {},
   "outputs": [],
   "source": [
    "# Gensim\n",
    "import gensim\n",
    "import gensim.corpora\n",
    "from gensim.utils import simple_preprocess\n",
    "from gensim.models import CoherenceModel"
   ]
  },
  {
   "cell_type": "code",
   "execution_count": 4,
   "metadata": {},
   "outputs": [],
   "source": [
    "# spacy for lemmatization\n",
    "import spacy"
   ]
  },
  {
   "cell_type": "code",
   "execution_count": 5,
   "metadata": {},
   "outputs": [],
   "source": [
    "# Plotting tools\n",
    "import pyLDAvis\n",
    "import pyLDAvis.gensim_models  # don't skip this\n",
    "import matplotlib.pyplot as plt\n",
    "%matplotlib inline\n",
    "\n",
    "import warnings\n",
    "warnings.filterwarnings(\"ignore\", category=DeprecationWarning)"
   ]
  },
  {
   "cell_type": "code",
   "execution_count": 6,
   "metadata": {},
   "outputs": [],
   "source": [
    "# import nltk\n",
    "# import ssl\n",
    "\n",
    "# try:\n",
    "#     _create_unverified_https_context = ssl._create_unverified_context\n",
    "# except AttributeError:\n",
    "#     pass\n",
    "# else:\n",
    "#     ssl._create_default_https_context = _create_unverified_https_context\n",
    "\n",
    "# nltk.download()\n",
    "\n",
    "# a pop-up window will open and you should select `Stopwords` to download;\n",
    "# after it is installed, you can close that pop-up window"
   ]
  },
  {
   "cell_type": "markdown",
   "metadata": {},
   "source": [
    "# Stopwords"
   ]
  },
  {
   "cell_type": "code",
   "execution_count": 7,
   "metadata": {
    "scrolled": true
   },
   "outputs": [
    {
     "name": "stdout",
     "output_type": "stream",
     "text": [
      "['i', 'me', 'my', 'myself', 'we', 'our', 'ours', 'ourselves', 'you', \"you're\", \"you've\", \"you'll\", \"you'd\", 'your', 'yours', 'yourself', 'yourselves', 'he', 'him', 'his', 'himself', 'she', \"she's\", 'her', 'hers', 'herself', 'it', \"it's\", 'its', 'itself', 'they', 'them', 'their', 'theirs', 'themselves', 'what', 'which', 'who', 'whom', 'this', 'that', \"that'll\", 'these', 'those', 'am', 'is', 'are', 'was', 'were', 'be', 'been', 'being', 'have', 'has', 'had', 'having', 'do', 'does', 'did', 'doing', 'a', 'an', 'the', 'and', 'but', 'if', 'or', 'because', 'as', 'until', 'while', 'of', 'at', 'by', 'for', 'with', 'about', 'against', 'between', 'into', 'through', 'during', 'before', 'after', 'above', 'below', 'to', 'from', 'up', 'down', 'in', 'out', 'on', 'off', 'over', 'under', 'again', 'further', 'then', 'once', 'here', 'there', 'when', 'where', 'why', 'how', 'all', 'any', 'both', 'each', 'few', 'more', 'most', 'other', 'some', 'such', 'no', 'nor', 'not', 'only', 'own', 'same', 'so', 'than', 'too', 'very', 's', 't', 'can', 'will', 'just', 'don', \"don't\", 'should', \"should've\", 'now', 'd', 'll', 'm', 'o', 're', 've', 'y', 'ain', 'aren', \"aren't\", 'couldn', \"couldn't\", 'didn', \"didn't\", 'doesn', \"doesn't\", 'hadn', \"hadn't\", 'hasn', \"hasn't\", 'haven', \"haven't\", 'isn', \"isn't\", 'ma', 'mightn', \"mightn't\", 'mustn', \"mustn't\", 'needn', \"needn't\", 'shan', \"shan't\", 'shouldn', \"shouldn't\", 'wasn', \"wasn't\", 'weren', \"weren't\", 'won', \"won't\", 'wouldn', \"wouldn't\"]\n",
      "CPU times: user 1.26 ms, sys: 803 µs, total: 2.07 ms\n",
      "Wall time: 2.28 ms\n"
     ]
    }
   ],
   "source": [
    "%%time\n",
    "\n",
    "# NLTK Stop words\n",
    "from nltk.corpus import stopwords\n",
    "stop_words = stopwords.words('english')\n",
    "\n",
    "print(stop_words)"
   ]
  },
  {
   "cell_type": "markdown",
   "metadata": {},
   "source": [
    "**NB:** however, it is always better to have your personal curated list. How can we create it? "
   ]
  },
  {
   "cell_type": "markdown",
   "metadata": {},
   "source": [
    "# Load our Dispatch data:"
   ]
  },
  {
   "cell_type": "code",
   "execution_count": 8,
   "metadata": {},
   "outputs": [
    {
     "name": "stdout",
     "output_type": "stream",
     "text": [
      "CPU times: user 1.56 s, sys: 145 ms, total: 1.71 s\n",
      "Wall time: 1.72 s\n"
     ]
    }
   ],
   "source": [
    "%%time\n",
    "\n",
    "dispatchSubfolder = \"./Dispatch_Processed_TSV/\"\n",
    "\n",
    "# WE CAN EDIT THIS LIST IN ORDER TO REDUCE THE AMOUNT OF DATA THAT WE ARE LOADING\n",
    "dispatchFiles = [\"Dispatch_1860.tsv\",\n",
    "                 \"Dispatch_1861.tsv\",\n",
    "                 \"Dispatch_1862.tsv\",\n",
    "                 \"Dispatch_1863.tsv\",\n",
    "                 \"Dispatch_1864.tsv\",\n",
    "                 \"Dispatch_1865.tsv\"\n",
    "                 ]\n",
    "\n",
    "df = pandas.DataFrame()\n",
    "\n",
    "for f in dispatchFiles:\n",
    "    dfTemp = pandas.read_csv(dispatchSubfolder + f, sep=\"\\t\", header=0)\n",
    "    df = df.append(dfTemp)\n",
    "\n",
    "dispatch = df\n",
    "# drop=True -- use it to avoid creating a new column with the old index values\n",
    "dispatch = dispatch.reset_index(drop=True) \n",
    "\n",
    "# add a column with all dates of each month changed to 1 (we can use that to aggregate our data into months)\n",
    "dispatch[\"month\"] = [re.sub(\"-\\d\\d$\", \"\", str(i)) for i in dispatch[\"date\"]]\n",
    "\n",
    "# reorder columns\n",
    "dispatch = dispatch[[\"id\", \"month\", \"date\", \"type\", \"header\", \"text\"]]"
   ]
  },
  {
   "cell_type": "code",
   "execution_count": 9,
   "metadata": {},
   "outputs": [
    {
     "data": {
      "text/html": [
       "<div>\n",
       "<style scoped>\n",
       "    .dataframe tbody tr th:only-of-type {\n",
       "        vertical-align: middle;\n",
       "    }\n",
       "\n",
       "    .dataframe tbody tr th {\n",
       "        vertical-align: top;\n",
       "    }\n",
       "\n",
       "    .dataframe thead th {\n",
       "        text-align: right;\n",
       "    }\n",
       "</style>\n",
       "<table border=\"1\" class=\"dataframe\">\n",
       "  <thead>\n",
       "    <tr style=\"text-align: right;\">\n",
       "      <th></th>\n",
       "      <th>id</th>\n",
       "      <th>month</th>\n",
       "      <th>date</th>\n",
       "      <th>type</th>\n",
       "      <th>header</th>\n",
       "      <th>text</th>\n",
       "    </tr>\n",
       "  </thead>\n",
       "  <tbody>\n",
       "    <tr>\n",
       "      <th>0</th>\n",
       "      <td>1860-12-31_article_000</td>\n",
       "      <td>1860-12</td>\n",
       "      <td>1860-12-31</td>\n",
       "      <td>article</td>\n",
       "      <td>The National crisis.partic...</td>\n",
       "      <td>The National crisis. parti...</td>\n",
       "    </tr>\n",
       "    <tr>\n",
       "      <th>1</th>\n",
       "      <td>1860-12-31_article_000</td>\n",
       "      <td>1860-12</td>\n",
       "      <td>1860-12-31</td>\n",
       "      <td>article</td>\n",
       "      <td>[from the Charleston couri...</td>\n",
       "      <td>[from the Charleston couri...</td>\n",
       "    </tr>\n",
       "    <tr>\n",
       "      <th>2</th>\n",
       "      <td>1860-12-31_article_000</td>\n",
       "      <td>1860-12</td>\n",
       "      <td>1860-12-31</td>\n",
       "      <td>article</td>\n",
       "      <td>Death of Commodore Platt.</td>\n",
       "      <td>Death of Commodore Platt.;...</td>\n",
       "    </tr>\n",
       "    <tr>\n",
       "      <th>3</th>\n",
       "      <td>1860-12-31_article_000</td>\n",
       "      <td>1860-12</td>\n",
       "      <td>1860-12-31</td>\n",
       "      <td>article</td>\n",
       "      <td>Death of the last survivor...</td>\n",
       "      <td>Death of the last survivor...</td>\n",
       "    </tr>\n",
       "    <tr>\n",
       "      <th>4</th>\n",
       "      <td>1860-12-31_article_000</td>\n",
       "      <td>1860-12</td>\n",
       "      <td>1860-12-31</td>\n",
       "      <td>article</td>\n",
       "      <td>Christmas in Charleston.</td>\n",
       "      <td>Christmas in Charleston.;;...</td>\n",
       "    </tr>\n",
       "    <tr>\n",
       "      <th>...</th>\n",
       "      <td>...</td>\n",
       "      <td>...</td>\n",
       "      <td>...</td>\n",
       "      <td>...</td>\n",
       "      <td>...</td>\n",
       "      <td>...</td>\n",
       "    </tr>\n",
       "    <tr>\n",
       "      <th>129848</th>\n",
       "      <td>1865-01-23_orders_000</td>\n",
       "      <td>1865-01</td>\n",
       "      <td>1865-01-23</td>\n",
       "      <td>orders</td>\n",
       "      <td>Treasury Department,Confed...</td>\n",
       "      <td>Treasury Department, Confe...</td>\n",
       "    </tr>\n",
       "    <tr>\n",
       "      <th>129849</th>\n",
       "      <td>1865-01-23_orders_000</td>\n",
       "      <td>1865-01</td>\n",
       "      <td>1865-01-23</td>\n",
       "      <td>orders</td>\n",
       "      <td>Treasury Department,Confed...</td>\n",
       "      <td>Treasury Department, Confe...</td>\n",
       "    </tr>\n",
       "    <tr>\n",
       "      <th>129850</th>\n",
       "      <td>1865-01-23_orders_000</td>\n",
       "      <td>1865-01</td>\n",
       "      <td>1865-01-23</td>\n",
       "      <td>orders</td>\n",
       "      <td>Treasury Department, Confe...</td>\n",
       "      <td>Treasury Department, Confe...</td>\n",
       "    </tr>\n",
       "    <tr>\n",
       "      <th>129851</th>\n",
       "      <td>1865-01-23_orders_000</td>\n",
       "      <td>1865-01</td>\n",
       "      <td>1865-01-23</td>\n",
       "      <td>orders</td>\n",
       "      <td>Treasury Department,Confed...</td>\n",
       "      <td>Treasury Department, Confe...</td>\n",
       "    </tr>\n",
       "    <tr>\n",
       "      <th>129852</th>\n",
       "      <td>1865-01-23_orders_000</td>\n",
       "      <td>1865-01</td>\n",
       "      <td>1865-01-23</td>\n",
       "      <td>orders</td>\n",
       "      <td>Treasury Department,Confed...</td>\n",
       "      <td>Treasury Department, Confe...</td>\n",
       "    </tr>\n",
       "  </tbody>\n",
       "</table>\n",
       "<p>129853 rows × 6 columns</p>\n",
       "</div>"
      ],
      "text/plain": [
       "                            id    month        date     type  \\\n",
       "0       1860-12-31_article_000  1860-12  1860-12-31  article   \n",
       "1       1860-12-31_article_000  1860-12  1860-12-31  article   \n",
       "2       1860-12-31_article_000  1860-12  1860-12-31  article   \n",
       "3       1860-12-31_article_000  1860-12  1860-12-31  article   \n",
       "4       1860-12-31_article_000  1860-12  1860-12-31  article   \n",
       "...                        ...      ...         ...      ...   \n",
       "129848   1865-01-23_orders_000  1865-01  1865-01-23   orders   \n",
       "129849   1865-01-23_orders_000  1865-01  1865-01-23   orders   \n",
       "129850   1865-01-23_orders_000  1865-01  1865-01-23   orders   \n",
       "129851   1865-01-23_orders_000  1865-01  1865-01-23   orders   \n",
       "129852   1865-01-23_orders_000  1865-01  1865-01-23   orders   \n",
       "\n",
       "                               header                           text  \n",
       "0       The National crisis.partic...  The National crisis. parti...  \n",
       "1       [from the Charleston couri...  [from the Charleston couri...  \n",
       "2           Death of Commodore Platt.  Death of Commodore Platt.;...  \n",
       "3       Death of the last survivor...  Death of the last survivor...  \n",
       "4            Christmas in Charleston.  Christmas in Charleston.;;...  \n",
       "...                               ...                            ...  \n",
       "129848  Treasury Department,Confed...  Treasury Department, Confe...  \n",
       "129849  Treasury Department,Confed...  Treasury Department, Confe...  \n",
       "129850  Treasury Department, Confe...  Treasury Department, Confe...  \n",
       "129851  Treasury Department,Confed...  Treasury Department, Confe...  \n",
       "129852  Treasury Department,Confed...  Treasury Department, Confe...  \n",
       "\n",
       "[129853 rows x 6 columns]"
      ]
     },
     "execution_count": 9,
     "metadata": {},
     "output_type": "execute_result"
    }
   ],
   "source": [
    "dispatch"
   ]
  },
  {
   "cell_type": "code",
   "execution_count": 10,
   "metadata": {},
   "outputs": [
    {
     "name": "stdout",
     "output_type": "stream",
     "text": [
      "CPU times: user 49.5 ms, sys: 8.76 ms, total: 58.3 ms\n",
      "Wall time: 56.6 ms\n"
     ]
    },
    {
     "data": {
      "text/html": [
       "<div>\n",
       "<style scoped>\n",
       "    .dataframe tbody tr th:only-of-type {\n",
       "        vertical-align: middle;\n",
       "    }\n",
       "\n",
       "    .dataframe tbody tr th {\n",
       "        vertical-align: top;\n",
       "    }\n",
       "\n",
       "    .dataframe thead th {\n",
       "        text-align: right;\n",
       "    }\n",
       "</style>\n",
       "<table border=\"1\" class=\"dataframe\">\n",
       "  <thead>\n",
       "    <tr style=\"text-align: right;\">\n",
       "      <th></th>\n",
       "      <th>id</th>\n",
       "      <th>month</th>\n",
       "      <th>date</th>\n",
       "      <th>type</th>\n",
       "      <th>header</th>\n",
       "      <th>text</th>\n",
       "    </tr>\n",
       "  </thead>\n",
       "  <tbody>\n",
       "    <tr>\n",
       "      <th>0</th>\n",
       "      <td>1860-12-31_article_000</td>\n",
       "      <td>1860-12-01</td>\n",
       "      <td>1860-12-31</td>\n",
       "      <td>article</td>\n",
       "      <td>The National crisis.partic...</td>\n",
       "      <td>The National crisis. parti...</td>\n",
       "    </tr>\n",
       "    <tr>\n",
       "      <th>1</th>\n",
       "      <td>1860-12-31_article_000</td>\n",
       "      <td>1860-12-01</td>\n",
       "      <td>1860-12-31</td>\n",
       "      <td>article</td>\n",
       "      <td>[from the Charleston couri...</td>\n",
       "      <td>[from the Charleston couri...</td>\n",
       "    </tr>\n",
       "    <tr>\n",
       "      <th>2</th>\n",
       "      <td>1860-12-31_article_000</td>\n",
       "      <td>1860-12-01</td>\n",
       "      <td>1860-12-31</td>\n",
       "      <td>article</td>\n",
       "      <td>Death of Commodore Platt.</td>\n",
       "      <td>Death of Commodore Platt.;...</td>\n",
       "    </tr>\n",
       "    <tr>\n",
       "      <th>3</th>\n",
       "      <td>1860-12-31_article_000</td>\n",
       "      <td>1860-12-01</td>\n",
       "      <td>1860-12-31</td>\n",
       "      <td>article</td>\n",
       "      <td>Death of the last survivor...</td>\n",
       "      <td>Death of the last survivor...</td>\n",
       "    </tr>\n",
       "    <tr>\n",
       "      <th>4</th>\n",
       "      <td>1860-12-31_article_000</td>\n",
       "      <td>1860-12-01</td>\n",
       "      <td>1860-12-31</td>\n",
       "      <td>article</td>\n",
       "      <td>Christmas in Charleston.</td>\n",
       "      <td>Christmas in Charleston.;;...</td>\n",
       "    </tr>\n",
       "    <tr>\n",
       "      <th>...</th>\n",
       "      <td>...</td>\n",
       "      <td>...</td>\n",
       "      <td>...</td>\n",
       "      <td>...</td>\n",
       "      <td>...</td>\n",
       "      <td>...</td>\n",
       "    </tr>\n",
       "    <tr>\n",
       "      <th>129848</th>\n",
       "      <td>1865-01-23_orders_000</td>\n",
       "      <td>1865-01-01</td>\n",
       "      <td>1865-01-23</td>\n",
       "      <td>orders</td>\n",
       "      <td>Treasury Department,Confed...</td>\n",
       "      <td>Treasury Department, Confe...</td>\n",
       "    </tr>\n",
       "    <tr>\n",
       "      <th>129849</th>\n",
       "      <td>1865-01-23_orders_000</td>\n",
       "      <td>1865-01-01</td>\n",
       "      <td>1865-01-23</td>\n",
       "      <td>orders</td>\n",
       "      <td>Treasury Department,Confed...</td>\n",
       "      <td>Treasury Department, Confe...</td>\n",
       "    </tr>\n",
       "    <tr>\n",
       "      <th>129850</th>\n",
       "      <td>1865-01-23_orders_000</td>\n",
       "      <td>1865-01-01</td>\n",
       "      <td>1865-01-23</td>\n",
       "      <td>orders</td>\n",
       "      <td>Treasury Department, Confe...</td>\n",
       "      <td>Treasury Department, Confe...</td>\n",
       "    </tr>\n",
       "    <tr>\n",
       "      <th>129851</th>\n",
       "      <td>1865-01-23_orders_000</td>\n",
       "      <td>1865-01-01</td>\n",
       "      <td>1865-01-23</td>\n",
       "      <td>orders</td>\n",
       "      <td>Treasury Department,Confed...</td>\n",
       "      <td>Treasury Department, Confe...</td>\n",
       "    </tr>\n",
       "    <tr>\n",
       "      <th>129852</th>\n",
       "      <td>1865-01-23_orders_000</td>\n",
       "      <td>1865-01-01</td>\n",
       "      <td>1865-01-23</td>\n",
       "      <td>orders</td>\n",
       "      <td>Treasury Department,Confed...</td>\n",
       "      <td>Treasury Department, Confe...</td>\n",
       "    </tr>\n",
       "  </tbody>\n",
       "</table>\n",
       "<p>129853 rows × 6 columns</p>\n",
       "</div>"
      ],
      "text/plain": [
       "                            id      month       date     type  \\\n",
       "0       1860-12-31_article_000 1860-12-01 1860-12-31  article   \n",
       "1       1860-12-31_article_000 1860-12-01 1860-12-31  article   \n",
       "2       1860-12-31_article_000 1860-12-01 1860-12-31  article   \n",
       "3       1860-12-31_article_000 1860-12-01 1860-12-31  article   \n",
       "4       1860-12-31_article_000 1860-12-01 1860-12-31  article   \n",
       "...                        ...        ...        ...      ...   \n",
       "129848   1865-01-23_orders_000 1865-01-01 1865-01-23   orders   \n",
       "129849   1865-01-23_orders_000 1865-01-01 1865-01-23   orders   \n",
       "129850   1865-01-23_orders_000 1865-01-01 1865-01-23   orders   \n",
       "129851   1865-01-23_orders_000 1865-01-01 1865-01-23   orders   \n",
       "129852   1865-01-23_orders_000 1865-01-01 1865-01-23   orders   \n",
       "\n",
       "                               header                           text  \n",
       "0       The National crisis.partic...  The National crisis. parti...  \n",
       "1       [from the Charleston couri...  [from the Charleston couri...  \n",
       "2           Death of Commodore Platt.  Death of Commodore Platt.;...  \n",
       "3       Death of the last survivor...  Death of the last survivor...  \n",
       "4            Christmas in Charleston.  Christmas in Charleston.;;...  \n",
       "...                               ...                            ...  \n",
       "129848  Treasury Department,Confed...  Treasury Department, Confe...  \n",
       "129849  Treasury Department,Confed...  Treasury Department, Confe...  \n",
       "129850  Treasury Department, Confe...  Treasury Department, Confe...  \n",
       "129851  Treasury Department,Confed...  Treasury Department, Confe...  \n",
       "129852  Treasury Department,Confed...  Treasury Department, Confe...  \n",
       "\n",
       "[129853 rows x 6 columns]"
      ]
     },
     "execution_count": 10,
     "metadata": {},
     "output_type": "execute_result"
    }
   ],
   "source": [
    "%%time\n",
    "\n",
    "dispatch[\"month\"] = pandas.to_datetime(dispatch[\"month\"], format=\"%Y-%m\")\n",
    "dispatch[\"date\"] = pandas.to_datetime(dispatch[\"date\"], format=\"%Y-%m-%d\")\n",
    "\n",
    "dispatch"
   ]
  },
  {
   "cell_type": "code",
   "execution_count": 11,
   "metadata": {},
   "outputs": [
    {
     "data": {
      "text/html": [
       "<div>\n",
       "<style scoped>\n",
       "    .dataframe tbody tr th:only-of-type {\n",
       "        vertical-align: middle;\n",
       "    }\n",
       "\n",
       "    .dataframe tbody tr th {\n",
       "        vertical-align: top;\n",
       "    }\n",
       "\n",
       "    .dataframe thead th {\n",
       "        text-align: right;\n",
       "    }\n",
       "</style>\n",
       "<table border=\"1\" class=\"dataframe\">\n",
       "  <thead>\n",
       "    <tr style=\"text-align: right;\">\n",
       "      <th></th>\n",
       "      <th>id</th>\n",
       "      <th>month</th>\n",
       "      <th>date</th>\n",
       "      <th>type</th>\n",
       "      <th>header</th>\n",
       "      <th>text</th>\n",
       "    </tr>\n",
       "  </thead>\n",
       "  <tbody>\n",
       "    <tr>\n",
       "      <th>0</th>\n",
       "      <td>1860-12-31_article_000</td>\n",
       "      <td>1860-12-01</td>\n",
       "      <td>1860-12-31</td>\n",
       "      <td>article</td>\n",
       "      <td>The National crisis.particulars of the evacuat...</td>\n",
       "      <td>The National crisis. particulars of the evacua...</td>\n",
       "    </tr>\n",
       "    <tr>\n",
       "      <th>1</th>\n",
       "      <td>1860-12-31_article_000</td>\n",
       "      <td>1860-12-01</td>\n",
       "      <td>1860-12-31</td>\n",
       "      <td>article</td>\n",
       "      <td>[from the Charleston courier, of Friday.]Fort ...</td>\n",
       "      <td>[from the Charleston courier, of Friday.] Fort...</td>\n",
       "    </tr>\n",
       "    <tr>\n",
       "      <th>2</th>\n",
       "      <td>1860-12-31_article_000</td>\n",
       "      <td>1860-12-01</td>\n",
       "      <td>1860-12-31</td>\n",
       "      <td>article</td>\n",
       "      <td>Death of Commodore Platt.</td>\n",
       "      <td>Death of Commodore Platt.;;; Another of our mo...</td>\n",
       "    </tr>\n",
       "    <tr>\n",
       "      <th>3</th>\n",
       "      <td>1860-12-31_article_000</td>\n",
       "      <td>1860-12-01</td>\n",
       "      <td>1860-12-31</td>\n",
       "      <td>article</td>\n",
       "      <td>Death of the last survivor of the battle of Bu...</td>\n",
       "      <td>Death of the last survivor of the battle of Bu...</td>\n",
       "    </tr>\n",
       "    <tr>\n",
       "      <th>4</th>\n",
       "      <td>1860-12-31_article_000</td>\n",
       "      <td>1860-12-01</td>\n",
       "      <td>1860-12-31</td>\n",
       "      <td>article</td>\n",
       "      <td>Christmas in Charleston.</td>\n",
       "      <td>Christmas in Charleston.;;; --It seemed, on Tu...</td>\n",
       "    </tr>\n",
       "    <tr>\n",
       "      <th>...</th>\n",
       "      <td>...</td>\n",
       "      <td>...</td>\n",
       "      <td>...</td>\n",
       "      <td>...</td>\n",
       "      <td>...</td>\n",
       "      <td>...</td>\n",
       "    </tr>\n",
       "    <tr>\n",
       "      <th>129848</th>\n",
       "      <td>1865-01-23_orders_000</td>\n",
       "      <td>1865-01-01</td>\n",
       "      <td>1865-01-23</td>\n",
       "      <td>orders</td>\n",
       "      <td>Treasury Department,Confederate States of Amer...</td>\n",
       "      <td>Treasury Department, Confederate States of Ame...</td>\n",
       "    </tr>\n",
       "    <tr>\n",
       "      <th>129849</th>\n",
       "      <td>1865-01-23_orders_000</td>\n",
       "      <td>1865-01-01</td>\n",
       "      <td>1865-01-23</td>\n",
       "      <td>orders</td>\n",
       "      <td>Treasury Department,Confederate States of Amer...</td>\n",
       "      <td>Treasury Department, Confederate States of Ame...</td>\n",
       "    </tr>\n",
       "    <tr>\n",
       "      <th>129850</th>\n",
       "      <td>1865-01-23_orders_000</td>\n",
       "      <td>1865-01-01</td>\n",
       "      <td>1865-01-23</td>\n",
       "      <td>orders</td>\n",
       "      <td>Treasury Department, Confederate States of Ame...</td>\n",
       "      <td>Treasury Department, Confederate States of Ame...</td>\n",
       "    </tr>\n",
       "    <tr>\n",
       "      <th>129851</th>\n",
       "      <td>1865-01-23_orders_000</td>\n",
       "      <td>1865-01-01</td>\n",
       "      <td>1865-01-23</td>\n",
       "      <td>orders</td>\n",
       "      <td>Treasury Department,Confederate States of Amer...</td>\n",
       "      <td>Treasury Department, Confederate States of Ame...</td>\n",
       "    </tr>\n",
       "    <tr>\n",
       "      <th>129852</th>\n",
       "      <td>1865-01-23_orders_000</td>\n",
       "      <td>1865-01-01</td>\n",
       "      <td>1865-01-23</td>\n",
       "      <td>orders</td>\n",
       "      <td>Treasury Department,Confederate States of Amer...</td>\n",
       "      <td>Treasury Department, Confederate States of Ame...</td>\n",
       "    </tr>\n",
       "  </tbody>\n",
       "</table>\n",
       "<p>129853 rows × 6 columns</p>\n",
       "</div>"
      ],
      "text/plain": [
       "                            id      month       date     type  \\\n",
       "0       1860-12-31_article_000 1860-12-01 1860-12-31  article   \n",
       "1       1860-12-31_article_000 1860-12-01 1860-12-31  article   \n",
       "2       1860-12-31_article_000 1860-12-01 1860-12-31  article   \n",
       "3       1860-12-31_article_000 1860-12-01 1860-12-31  article   \n",
       "4       1860-12-31_article_000 1860-12-01 1860-12-31  article   \n",
       "...                        ...        ...        ...      ...   \n",
       "129848   1865-01-23_orders_000 1865-01-01 1865-01-23   orders   \n",
       "129849   1865-01-23_orders_000 1865-01-01 1865-01-23   orders   \n",
       "129850   1865-01-23_orders_000 1865-01-01 1865-01-23   orders   \n",
       "129851   1865-01-23_orders_000 1865-01-01 1865-01-23   orders   \n",
       "129852   1865-01-23_orders_000 1865-01-01 1865-01-23   orders   \n",
       "\n",
       "                                                   header  \\\n",
       "0       The National crisis.particulars of the evacuat...   \n",
       "1       [from the Charleston courier, of Friday.]Fort ...   \n",
       "2                               Death of Commodore Platt.   \n",
       "3       Death of the last survivor of the battle of Bu...   \n",
       "4                                Christmas in Charleston.   \n",
       "...                                                   ...   \n",
       "129848  Treasury Department,Confederate States of Amer...   \n",
       "129849  Treasury Department,Confederate States of Amer...   \n",
       "129850  Treasury Department, Confederate States of Ame...   \n",
       "129851  Treasury Department,Confederate States of Amer...   \n",
       "129852  Treasury Department,Confederate States of Amer...   \n",
       "\n",
       "                                                     text  \n",
       "0       The National crisis. particulars of the evacua...  \n",
       "1       [from the Charleston courier, of Friday.] Fort...  \n",
       "2       Death of Commodore Platt.;;; Another of our mo...  \n",
       "3       Death of the last survivor of the battle of Bu...  \n",
       "4       Christmas in Charleston.;;; --It seemed, on Tu...  \n",
       "...                                                   ...  \n",
       "129848  Treasury Department, Confederate States of Ame...  \n",
       "129849  Treasury Department, Confederate States of Ame...  \n",
       "129850  Treasury Department, Confederate States of Ame...  \n",
       "129851  Treasury Department, Confederate States of Ame...  \n",
       "129852  Treasury Department, Confederate States of Ame...  \n",
       "\n",
       "[129853 rows x 6 columns]"
      ]
     },
     "execution_count": 11,
     "metadata": {},
     "output_type": "execute_result"
    }
   ],
   "source": [
    "# you can change the parameter below, but it may become messy if it is too large\n",
    "# this parameter sets the maximum width of columns\n",
    "pandas.set_option(\"display.max_colwidth\", 50)\n",
    "\n",
    "dispatch"
   ]
  },
  {
   "cell_type": "markdown",
   "metadata": {},
   "source": [
    "The following checks data types in a dataframe (table). Let's run it to check if our \"date\" column was properly converted:"
   ]
  },
  {
   "cell_type": "code",
   "execution_count": 12,
   "metadata": {},
   "outputs": [
    {
     "data": {
      "text/plain": [
       "id                object\n",
       "month     datetime64[ns]\n",
       "date      datetime64[ns]\n",
       "type              object\n",
       "header            object\n",
       "text              object\n",
       "dtype: object"
      ]
     },
     "execution_count": 12,
     "metadata": {},
     "output_type": "execute_result"
    }
   ],
   "source": [
    "dispatch.dtypes"
   ]
  },
  {
   "cell_type": "markdown",
   "metadata": {},
   "source": [
    "The following line prints a specific piece of our table (a cell from the second row, column `text`):"
   ]
  },
  {
   "cell_type": "code",
   "execution_count": 13,
   "metadata": {},
   "outputs": [
    {
     "name": "stdout",
     "output_type": "stream",
     "text": [
      "The National crisis. particulars of the evacuation and occupation of Fort Moultrie. resignation of Secretary Floyd. &amp;c., &amp;c., &amp;c.;;; The Washington Constitution of yesterday announces that the resignation of Hon. John B. Floyd, Secretary of War, was tendered on Saturday, and accepted by the President.--The Star of the evening before, foreshadowing this result, says:;;; The on dit of the day, immediately around us is, that Secretaries Floyd, Thompson, and Thomas, all of whom believe in the alleged constitutional right of secession, it will be remembered, have formally notified the President that they will resign their respective portfolios unless he accede to the demand of the South Carolina Commissioners, that orders shall be issued to Major Anderson directing him to go back to Fort Moultrie from Fort Sumter, with all his force — of course thus shadowing the latter to the --This rumor is probably true.;;; we may not inappropriately add, that if such orders are issued to Major Anderson. Secretaries Toney, Holt, Black and Stanton will probably resign.;;; But we have not the least idea that the President will accommodate the secession commissioners in this connection — none whatever.\n"
     ]
    }
   ],
   "source": [
    "print(dispatch[\"text\"][0])"
   ]
  },
  {
   "cell_type": "markdown",
   "metadata": {},
   "source": [
    "The following command allows us to count instances of specific values in a specific column:"
   ]
  },
  {
   "cell_type": "code",
   "execution_count": 14,
   "metadata": {},
   "outputs": [
    {
     "data": {
      "text/plain": [
       "article     71014\n",
       "ad-blank    26518\n",
       "advert      18736\n",
       "orders      10916\n",
       "death        1038\n",
       "            ...  \n",
       "ordors          1\n",
       "misc            1\n",
       "product         1\n",
       "report          1\n",
       "oped            1\n",
       "Name: type, Length: 104, dtype: int64"
      ]
     },
     "execution_count": 14,
     "metadata": {},
     "output_type": "execute_result"
    }
   ],
   "source": [
    "dispatch['type'].value_counts()"
   ]
  },
  {
   "cell_type": "markdown",
   "metadata": {},
   "source": [
    "## Filtering your dataframe:\n",
    "\n",
    "1. Range of rows or columns by index positions\n",
    "2. Filtering by value(s)\n",
    "3. And many other ways (you can google many useful tutorials)"
   ]
  },
  {
   "cell_type": "code",
   "execution_count": 15,
   "metadata": {},
   "outputs": [
    {
     "data": {
      "text/plain": [
       "129853"
      ]
     },
     "execution_count": 15,
     "metadata": {},
     "output_type": "execute_result"
    }
   ],
   "source": [
    "len(dispatch)"
   ]
  },
  {
   "cell_type": "markdown",
   "metadata": {},
   "source": [
    "Range of rows or columns by index positions:"
   ]
  },
  {
   "cell_type": "code",
   "execution_count": 16,
   "metadata": {},
   "outputs": [
    {
     "data": {
      "text/plain": [
       "1000"
      ]
     },
     "execution_count": 16,
     "metadata": {},
     "output_type": "execute_result"
    }
   ],
   "source": [
    "dispatch = dispatch.reset_index(drop=True)\n",
    "len(dispatch.loc[1:1000])"
   ]
  },
  {
   "cell_type": "code",
   "execution_count": 17,
   "metadata": {},
   "outputs": [
    {
     "data": {
      "text/html": [
       "<div>\n",
       "<style scoped>\n",
       "    .dataframe tbody tr th:only-of-type {\n",
       "        vertical-align: middle;\n",
       "    }\n",
       "\n",
       "    .dataframe tbody tr th {\n",
       "        vertical-align: top;\n",
       "    }\n",
       "\n",
       "    .dataframe thead th {\n",
       "        text-align: right;\n",
       "    }\n",
       "</style>\n",
       "<table border=\"1\" class=\"dataframe\">\n",
       "  <thead>\n",
       "    <tr style=\"text-align: right;\">\n",
       "      <th></th>\n",
       "      <th>id</th>\n",
       "      <th>month</th>\n",
       "      <th>date</th>\n",
       "      <th>type</th>\n",
       "      <th>header</th>\n",
       "      <th>text</th>\n",
       "    </tr>\n",
       "  </thead>\n",
       "  <tbody>\n",
       "    <tr>\n",
       "      <th>0</th>\n",
       "      <td>1860-12-31_article_000</td>\n",
       "      <td>1860-12-01</td>\n",
       "      <td>1860-12-31</td>\n",
       "      <td>article</td>\n",
       "      <td>The National crisis.particulars of the evacuat...</td>\n",
       "      <td>The National crisis. particulars of the evacua...</td>\n",
       "    </tr>\n",
       "    <tr>\n",
       "      <th>1</th>\n",
       "      <td>1860-12-31_article_000</td>\n",
       "      <td>1860-12-01</td>\n",
       "      <td>1860-12-31</td>\n",
       "      <td>article</td>\n",
       "      <td>[from the Charleston courier, of Friday.]Fort ...</td>\n",
       "      <td>[from the Charleston courier, of Friday.] Fort...</td>\n",
       "    </tr>\n",
       "    <tr>\n",
       "      <th>2</th>\n",
       "      <td>1860-12-31_article_000</td>\n",
       "      <td>1860-12-01</td>\n",
       "      <td>1860-12-31</td>\n",
       "      <td>article</td>\n",
       "      <td>Death of Commodore Platt.</td>\n",
       "      <td>Death of Commodore Platt.;;; Another of our mo...</td>\n",
       "    </tr>\n",
       "    <tr>\n",
       "      <th>3</th>\n",
       "      <td>1860-12-31_article_000</td>\n",
       "      <td>1860-12-01</td>\n",
       "      <td>1860-12-31</td>\n",
       "      <td>article</td>\n",
       "      <td>Death of the last survivor of the battle of Bu...</td>\n",
       "      <td>Death of the last survivor of the battle of Bu...</td>\n",
       "    </tr>\n",
       "    <tr>\n",
       "      <th>4</th>\n",
       "      <td>1860-12-31_article_000</td>\n",
       "      <td>1860-12-01</td>\n",
       "      <td>1860-12-31</td>\n",
       "      <td>article</td>\n",
       "      <td>Christmas in Charleston.</td>\n",
       "      <td>Christmas in Charleston.;;; --It seemed, on Tu...</td>\n",
       "    </tr>\n",
       "    <tr>\n",
       "      <th>...</th>\n",
       "      <td>...</td>\n",
       "      <td>...</td>\n",
       "      <td>...</td>\n",
       "      <td>...</td>\n",
       "      <td>...</td>\n",
       "      <td>...</td>\n",
       "    </tr>\n",
       "    <tr>\n",
       "      <th>129848</th>\n",
       "      <td>1865-01-23_orders_000</td>\n",
       "      <td>1865-01-01</td>\n",
       "      <td>1865-01-23</td>\n",
       "      <td>orders</td>\n",
       "      <td>Treasury Department,Confederate States of Amer...</td>\n",
       "      <td>Treasury Department, Confederate States of Ame...</td>\n",
       "    </tr>\n",
       "    <tr>\n",
       "      <th>129849</th>\n",
       "      <td>1865-01-23_orders_000</td>\n",
       "      <td>1865-01-01</td>\n",
       "      <td>1865-01-23</td>\n",
       "      <td>orders</td>\n",
       "      <td>Treasury Department,Confederate States of Amer...</td>\n",
       "      <td>Treasury Department, Confederate States of Ame...</td>\n",
       "    </tr>\n",
       "    <tr>\n",
       "      <th>129850</th>\n",
       "      <td>1865-01-23_orders_000</td>\n",
       "      <td>1865-01-01</td>\n",
       "      <td>1865-01-23</td>\n",
       "      <td>orders</td>\n",
       "      <td>Treasury Department, Confederate States of Ame...</td>\n",
       "      <td>Treasury Department, Confederate States of Ame...</td>\n",
       "    </tr>\n",
       "    <tr>\n",
       "      <th>129851</th>\n",
       "      <td>1865-01-23_orders_000</td>\n",
       "      <td>1865-01-01</td>\n",
       "      <td>1865-01-23</td>\n",
       "      <td>orders</td>\n",
       "      <td>Treasury Department,Confederate States of Amer...</td>\n",
       "      <td>Treasury Department, Confederate States of Ame...</td>\n",
       "    </tr>\n",
       "    <tr>\n",
       "      <th>129852</th>\n",
       "      <td>1865-01-23_orders_000</td>\n",
       "      <td>1865-01-01</td>\n",
       "      <td>1865-01-23</td>\n",
       "      <td>orders</td>\n",
       "      <td>Treasury Department,Confederate States of Amer...</td>\n",
       "      <td>Treasury Department, Confederate States of Ame...</td>\n",
       "    </tr>\n",
       "  </tbody>\n",
       "</table>\n",
       "<p>129853 rows × 6 columns</p>\n",
       "</div>"
      ],
      "text/plain": [
       "                            id      month       date     type  \\\n",
       "0       1860-12-31_article_000 1860-12-01 1860-12-31  article   \n",
       "1       1860-12-31_article_000 1860-12-01 1860-12-31  article   \n",
       "2       1860-12-31_article_000 1860-12-01 1860-12-31  article   \n",
       "3       1860-12-31_article_000 1860-12-01 1860-12-31  article   \n",
       "4       1860-12-31_article_000 1860-12-01 1860-12-31  article   \n",
       "...                        ...        ...        ...      ...   \n",
       "129848   1865-01-23_orders_000 1865-01-01 1865-01-23   orders   \n",
       "129849   1865-01-23_orders_000 1865-01-01 1865-01-23   orders   \n",
       "129850   1865-01-23_orders_000 1865-01-01 1865-01-23   orders   \n",
       "129851   1865-01-23_orders_000 1865-01-01 1865-01-23   orders   \n",
       "129852   1865-01-23_orders_000 1865-01-01 1865-01-23   orders   \n",
       "\n",
       "                                                   header  \\\n",
       "0       The National crisis.particulars of the evacuat...   \n",
       "1       [from the Charleston courier, of Friday.]Fort ...   \n",
       "2                               Death of Commodore Platt.   \n",
       "3       Death of the last survivor of the battle of Bu...   \n",
       "4                                Christmas in Charleston.   \n",
       "...                                                   ...   \n",
       "129848  Treasury Department,Confederate States of Amer...   \n",
       "129849  Treasury Department,Confederate States of Amer...   \n",
       "129850  Treasury Department, Confederate States of Ame...   \n",
       "129851  Treasury Department,Confederate States of Amer...   \n",
       "129852  Treasury Department,Confederate States of Amer...   \n",
       "\n",
       "                                                     text  \n",
       "0       The National crisis. particulars of the evacua...  \n",
       "1       [from the Charleston courier, of Friday.] Fort...  \n",
       "2       Death of Commodore Platt.;;; Another of our mo...  \n",
       "3       Death of the last survivor of the battle of Bu...  \n",
       "4       Christmas in Charleston.;;; --It seemed, on Tu...  \n",
       "...                                                   ...  \n",
       "129848  Treasury Department, Confederate States of Ame...  \n",
       "129849  Treasury Department, Confederate States of Ame...  \n",
       "129850  Treasury Department, Confederate States of Ame...  \n",
       "129851  Treasury Department, Confederate States of Ame...  \n",
       "129852  Treasury Department, Confederate States of Ame...  \n",
       "\n",
       "[129853 rows x 6 columns]"
      ]
     },
     "execution_count": 17,
     "metadata": {},
     "output_type": "execute_result"
    }
   ],
   "source": [
    "dispatch"
   ]
  },
  {
   "cell_type": "markdown",
   "metadata": {},
   "source": [
    "Filtering by value(s):"
   ]
  },
  {
   "cell_type": "code",
   "execution_count": 18,
   "metadata": {},
   "outputs": [
    {
     "data": {
      "text/plain": [
       "103335"
      ]
     },
     "execution_count": 18,
     "metadata": {},
     "output_type": "execute_result"
    }
   ],
   "source": [
    "dispatch_light = dispatch[dispatch.type != \"ad-blank\"]\n",
    "len(dispatch_light)"
   ]
  },
  {
   "cell_type": "markdown",
   "metadata": {},
   "source": [
    "Filtering affects index numbers of rows in the table (they are in the leftmost \"column\"). If you scroll the table generated below, you will see that some numbers are missing. We need to reset them (or renumber) so that we could merge with topic data that we will generate later.\n",
    "\n",
    "**NB**: reset can be done with the following command `dispatch_light = dispatch_light.reset_index(drop=True)`"
   ]
  },
  {
   "cell_type": "code",
   "execution_count": 19,
   "metadata": {},
   "outputs": [
    {
     "data": {
      "text/html": [
       "<div>\n",
       "<style scoped>\n",
       "    .dataframe tbody tr th:only-of-type {\n",
       "        vertical-align: middle;\n",
       "    }\n",
       "\n",
       "    .dataframe tbody tr th {\n",
       "        vertical-align: top;\n",
       "    }\n",
       "\n",
       "    .dataframe thead th {\n",
       "        text-align: right;\n",
       "    }\n",
       "</style>\n",
       "<table border=\"1\" class=\"dataframe\">\n",
       "  <thead>\n",
       "    <tr style=\"text-align: right;\">\n",
       "      <th></th>\n",
       "      <th>id</th>\n",
       "      <th>month</th>\n",
       "      <th>date</th>\n",
       "      <th>type</th>\n",
       "      <th>header</th>\n",
       "      <th>text</th>\n",
       "    </tr>\n",
       "  </thead>\n",
       "  <tbody>\n",
       "    <tr>\n",
       "      <th>0</th>\n",
       "      <td>1860-12-31_article_000</td>\n",
       "      <td>1860-12-01</td>\n",
       "      <td>1860-12-31</td>\n",
       "      <td>article</td>\n",
       "      <td>The National crisis.particulars of the evacuat...</td>\n",
       "      <td>The National crisis. particulars of the evacua...</td>\n",
       "    </tr>\n",
       "    <tr>\n",
       "      <th>1</th>\n",
       "      <td>1860-12-31_article_000</td>\n",
       "      <td>1860-12-01</td>\n",
       "      <td>1860-12-31</td>\n",
       "      <td>article</td>\n",
       "      <td>[from the Charleston courier, of Friday.]Fort ...</td>\n",
       "      <td>[from the Charleston courier, of Friday.] Fort...</td>\n",
       "    </tr>\n",
       "    <tr>\n",
       "      <th>2</th>\n",
       "      <td>1860-12-31_article_000</td>\n",
       "      <td>1860-12-01</td>\n",
       "      <td>1860-12-31</td>\n",
       "      <td>article</td>\n",
       "      <td>Death of Commodore Platt.</td>\n",
       "      <td>Death of Commodore Platt.;;; Another of our mo...</td>\n",
       "    </tr>\n",
       "    <tr>\n",
       "      <th>3</th>\n",
       "      <td>1860-12-31_article_000</td>\n",
       "      <td>1860-12-01</td>\n",
       "      <td>1860-12-31</td>\n",
       "      <td>article</td>\n",
       "      <td>Death of the last survivor of the battle of Bu...</td>\n",
       "      <td>Death of the last survivor of the battle of Bu...</td>\n",
       "    </tr>\n",
       "    <tr>\n",
       "      <th>4</th>\n",
       "      <td>1860-12-31_article_000</td>\n",
       "      <td>1860-12-01</td>\n",
       "      <td>1860-12-31</td>\n",
       "      <td>article</td>\n",
       "      <td>Christmas in Charleston.</td>\n",
       "      <td>Christmas in Charleston.;;; --It seemed, on Tu...</td>\n",
       "    </tr>\n",
       "    <tr>\n",
       "      <th>...</th>\n",
       "      <td>...</td>\n",
       "      <td>...</td>\n",
       "      <td>...</td>\n",
       "      <td>...</td>\n",
       "      <td>...</td>\n",
       "      <td>...</td>\n",
       "    </tr>\n",
       "    <tr>\n",
       "      <th>103330</th>\n",
       "      <td>1865-01-23_orders_000</td>\n",
       "      <td>1865-01-01</td>\n",
       "      <td>1865-01-23</td>\n",
       "      <td>orders</td>\n",
       "      <td>Treasury Department,Confederate States of Amer...</td>\n",
       "      <td>Treasury Department, Confederate States of Ame...</td>\n",
       "    </tr>\n",
       "    <tr>\n",
       "      <th>103331</th>\n",
       "      <td>1865-01-23_orders_000</td>\n",
       "      <td>1865-01-01</td>\n",
       "      <td>1865-01-23</td>\n",
       "      <td>orders</td>\n",
       "      <td>Treasury Department,Confederate States of Amer...</td>\n",
       "      <td>Treasury Department, Confederate States of Ame...</td>\n",
       "    </tr>\n",
       "    <tr>\n",
       "      <th>103332</th>\n",
       "      <td>1865-01-23_orders_000</td>\n",
       "      <td>1865-01-01</td>\n",
       "      <td>1865-01-23</td>\n",
       "      <td>orders</td>\n",
       "      <td>Treasury Department, Confederate States of Ame...</td>\n",
       "      <td>Treasury Department, Confederate States of Ame...</td>\n",
       "    </tr>\n",
       "    <tr>\n",
       "      <th>103333</th>\n",
       "      <td>1865-01-23_orders_000</td>\n",
       "      <td>1865-01-01</td>\n",
       "      <td>1865-01-23</td>\n",
       "      <td>orders</td>\n",
       "      <td>Treasury Department,Confederate States of Amer...</td>\n",
       "      <td>Treasury Department, Confederate States of Ame...</td>\n",
       "    </tr>\n",
       "    <tr>\n",
       "      <th>103334</th>\n",
       "      <td>1865-01-23_orders_000</td>\n",
       "      <td>1865-01-01</td>\n",
       "      <td>1865-01-23</td>\n",
       "      <td>orders</td>\n",
       "      <td>Treasury Department,Confederate States of Amer...</td>\n",
       "      <td>Treasury Department, Confederate States of Ame...</td>\n",
       "    </tr>\n",
       "  </tbody>\n",
       "</table>\n",
       "<p>103335 rows × 6 columns</p>\n",
       "</div>"
      ],
      "text/plain": [
       "                            id      month       date     type  \\\n",
       "0       1860-12-31_article_000 1860-12-01 1860-12-31  article   \n",
       "1       1860-12-31_article_000 1860-12-01 1860-12-31  article   \n",
       "2       1860-12-31_article_000 1860-12-01 1860-12-31  article   \n",
       "3       1860-12-31_article_000 1860-12-01 1860-12-31  article   \n",
       "4       1860-12-31_article_000 1860-12-01 1860-12-31  article   \n",
       "...                        ...        ...        ...      ...   \n",
       "103330   1865-01-23_orders_000 1865-01-01 1865-01-23   orders   \n",
       "103331   1865-01-23_orders_000 1865-01-01 1865-01-23   orders   \n",
       "103332   1865-01-23_orders_000 1865-01-01 1865-01-23   orders   \n",
       "103333   1865-01-23_orders_000 1865-01-01 1865-01-23   orders   \n",
       "103334   1865-01-23_orders_000 1865-01-01 1865-01-23   orders   \n",
       "\n",
       "                                                   header  \\\n",
       "0       The National crisis.particulars of the evacuat...   \n",
       "1       [from the Charleston courier, of Friday.]Fort ...   \n",
       "2                               Death of Commodore Platt.   \n",
       "3       Death of the last survivor of the battle of Bu...   \n",
       "4                                Christmas in Charleston.   \n",
       "...                                                   ...   \n",
       "103330  Treasury Department,Confederate States of Amer...   \n",
       "103331  Treasury Department,Confederate States of Amer...   \n",
       "103332  Treasury Department, Confederate States of Ame...   \n",
       "103333  Treasury Department,Confederate States of Amer...   \n",
       "103334  Treasury Department,Confederate States of Amer...   \n",
       "\n",
       "                                                     text  \n",
       "0       The National crisis. particulars of the evacua...  \n",
       "1       [from the Charleston courier, of Friday.] Fort...  \n",
       "2       Death of Commodore Platt.;;; Another of our mo...  \n",
       "3       Death of the last survivor of the battle of Bu...  \n",
       "4       Christmas in Charleston.;;; --It seemed, on Tu...  \n",
       "...                                                   ...  \n",
       "103330  Treasury Department, Confederate States of Ame...  \n",
       "103331  Treasury Department, Confederate States of Ame...  \n",
       "103332  Treasury Department, Confederate States of Ame...  \n",
       "103333  Treasury Department, Confederate States of Ame...  \n",
       "103334  Treasury Department, Confederate States of Ame...  \n",
       "\n",
       "[103335 rows x 6 columns]"
      ]
     },
     "execution_count": 19,
     "metadata": {},
     "output_type": "execute_result"
    }
   ],
   "source": [
    "dispatch_light = dispatch_light.reset_index(drop=True)\n",
    "dispatch_light"
   ]
  },
  {
   "cell_type": "markdown",
   "metadata": {},
   "source": [
    "You can read/print the text of any item in the following manner: `your_dataframe[\"column_name\"][row_number]`"
   ]
  },
  {
   "cell_type": "code",
   "execution_count": 20,
   "metadata": {},
   "outputs": [
    {
     "name": "stdout",
     "output_type": "stream",
     "text": [
      "Singular cause of death.;;; -- Col. William Early, an old and respectable citizen of Washington county, Tenn., died suddenly on the 11th instant.;;; He had been salting down some pork, and cut his hand slightly against a bone, from which mortification and death ensued.\n"
     ]
    }
   ],
   "source": [
    "print(dispatch_light[\"text\"][123])"
   ]
  },
  {
   "cell_type": "markdown",
   "metadata": {},
   "source": [
    "# Preparing our data\n",
    "\n",
    "Do not rush to run the following code! There is a lot of data in the Dispatch and running all data may take quite a while. In class, let's use a smaller sample. At home, re-run this notebook with all the data (you can drop items of the type `ad-blank`)."
   ]
  },
  {
   "cell_type": "code",
   "execution_count": 21,
   "metadata": {},
   "outputs": [
    {
     "name": "stdout",
     "output_type": "stream",
     "text": [
      "CPU times: user 14 s, sys: 139 ms, total: 14.2 s\n",
      "Wall time: 14.2 s\n"
     ]
    },
    {
     "data": {
      "text/html": [
       "<div>\n",
       "<style scoped>\n",
       "    .dataframe tbody tr th:only-of-type {\n",
       "        vertical-align: middle;\n",
       "    }\n",
       "\n",
       "    .dataframe tbody tr th {\n",
       "        vertical-align: top;\n",
       "    }\n",
       "\n",
       "    .dataframe thead th {\n",
       "        text-align: right;\n",
       "    }\n",
       "</style>\n",
       "<table border=\"1\" class=\"dataframe\">\n",
       "  <thead>\n",
       "    <tr style=\"text-align: right;\">\n",
       "      <th></th>\n",
       "      <th>id</th>\n",
       "      <th>month</th>\n",
       "      <th>date</th>\n",
       "      <th>type</th>\n",
       "      <th>header</th>\n",
       "      <th>text</th>\n",
       "      <th>textData</th>\n",
       "    </tr>\n",
       "  </thead>\n",
       "  <tbody>\n",
       "    <tr>\n",
       "      <th>0</th>\n",
       "      <td>1860-12-31_article_000</td>\n",
       "      <td>1860-12-01</td>\n",
       "      <td>1860-12-31</td>\n",
       "      <td>article</td>\n",
       "      <td>The National crisis.particulars of the evacuat...</td>\n",
       "      <td>The National crisis. particulars of the evacua...</td>\n",
       "      <td>the national crisis particulars of the evacuat...</td>\n",
       "    </tr>\n",
       "    <tr>\n",
       "      <th>1</th>\n",
       "      <td>1860-12-31_article_000</td>\n",
       "      <td>1860-12-01</td>\n",
       "      <td>1860-12-31</td>\n",
       "      <td>article</td>\n",
       "      <td>[from the Charleston courier, of Friday.]Fort ...</td>\n",
       "      <td>[from the Charleston courier, of Friday.] Fort...</td>\n",
       "      <td>from the charleston courier of friday fort mo...</td>\n",
       "    </tr>\n",
       "    <tr>\n",
       "      <th>2</th>\n",
       "      <td>1860-12-31_article_000</td>\n",
       "      <td>1860-12-01</td>\n",
       "      <td>1860-12-31</td>\n",
       "      <td>article</td>\n",
       "      <td>Death of Commodore Platt.</td>\n",
       "      <td>Death of Commodore Platt.;;; Another of our mo...</td>\n",
       "      <td>death of commodore platt another of our most e...</td>\n",
       "    </tr>\n",
       "    <tr>\n",
       "      <th>3</th>\n",
       "      <td>1860-12-31_article_000</td>\n",
       "      <td>1860-12-01</td>\n",
       "      <td>1860-12-31</td>\n",
       "      <td>article</td>\n",
       "      <td>Death of the last survivor of the battle of Bu...</td>\n",
       "      <td>Death of the last survivor of the battle of Bu...</td>\n",
       "      <td>death of the last survivor of the battle of bu...</td>\n",
       "    </tr>\n",
       "    <tr>\n",
       "      <th>4</th>\n",
       "      <td>1860-12-31_article_000</td>\n",
       "      <td>1860-12-01</td>\n",
       "      <td>1860-12-31</td>\n",
       "      <td>article</td>\n",
       "      <td>Christmas in Charleston.</td>\n",
       "      <td>Christmas in Charleston.;;; --It seemed, on Tu...</td>\n",
       "      <td>christmas in charleston it seemed on tuesday a...</td>\n",
       "    </tr>\n",
       "    <tr>\n",
       "      <th>...</th>\n",
       "      <td>...</td>\n",
       "      <td>...</td>\n",
       "      <td>...</td>\n",
       "      <td>...</td>\n",
       "      <td>...</td>\n",
       "      <td>...</td>\n",
       "      <td>...</td>\n",
       "    </tr>\n",
       "    <tr>\n",
       "      <th>103330</th>\n",
       "      <td>1865-01-23_orders_000</td>\n",
       "      <td>1865-01-01</td>\n",
       "      <td>1865-01-23</td>\n",
       "      <td>orders</td>\n",
       "      <td>Treasury Department,Confederate States of Amer...</td>\n",
       "      <td>Treasury Department, Confederate States of Ame...</td>\n",
       "      <td>treasury department confederate states of amer...</td>\n",
       "    </tr>\n",
       "    <tr>\n",
       "      <th>103331</th>\n",
       "      <td>1865-01-23_orders_000</td>\n",
       "      <td>1865-01-01</td>\n",
       "      <td>1865-01-23</td>\n",
       "      <td>orders</td>\n",
       "      <td>Treasury Department,Confederate States of Amer...</td>\n",
       "      <td>Treasury Department, Confederate States of Ame...</td>\n",
       "      <td>treasury department confederate states of amer...</td>\n",
       "    </tr>\n",
       "    <tr>\n",
       "      <th>103332</th>\n",
       "      <td>1865-01-23_orders_000</td>\n",
       "      <td>1865-01-01</td>\n",
       "      <td>1865-01-23</td>\n",
       "      <td>orders</td>\n",
       "      <td>Treasury Department, Confederate States of Ame...</td>\n",
       "      <td>Treasury Department, Confederate States of Ame...</td>\n",
       "      <td>treasury department confederate states of amer...</td>\n",
       "    </tr>\n",
       "    <tr>\n",
       "      <th>103333</th>\n",
       "      <td>1865-01-23_orders_000</td>\n",
       "      <td>1865-01-01</td>\n",
       "      <td>1865-01-23</td>\n",
       "      <td>orders</td>\n",
       "      <td>Treasury Department,Confederate States of Amer...</td>\n",
       "      <td>Treasury Department, Confederate States of Ame...</td>\n",
       "      <td>treasury department confederate states of amer...</td>\n",
       "    </tr>\n",
       "    <tr>\n",
       "      <th>103334</th>\n",
       "      <td>1865-01-23_orders_000</td>\n",
       "      <td>1865-01-01</td>\n",
       "      <td>1865-01-23</td>\n",
       "      <td>orders</td>\n",
       "      <td>Treasury Department,Confederate States of Amer...</td>\n",
       "      <td>Treasury Department, Confederate States of Ame...</td>\n",
       "      <td>treasury department confederate states of amer...</td>\n",
       "    </tr>\n",
       "  </tbody>\n",
       "</table>\n",
       "<p>103335 rows × 7 columns</p>\n",
       "</div>"
      ],
      "text/plain": [
       "                            id      month       date     type  \\\n",
       "0       1860-12-31_article_000 1860-12-01 1860-12-31  article   \n",
       "1       1860-12-31_article_000 1860-12-01 1860-12-31  article   \n",
       "2       1860-12-31_article_000 1860-12-01 1860-12-31  article   \n",
       "3       1860-12-31_article_000 1860-12-01 1860-12-31  article   \n",
       "4       1860-12-31_article_000 1860-12-01 1860-12-31  article   \n",
       "...                        ...        ...        ...      ...   \n",
       "103330   1865-01-23_orders_000 1865-01-01 1865-01-23   orders   \n",
       "103331   1865-01-23_orders_000 1865-01-01 1865-01-23   orders   \n",
       "103332   1865-01-23_orders_000 1865-01-01 1865-01-23   orders   \n",
       "103333   1865-01-23_orders_000 1865-01-01 1865-01-23   orders   \n",
       "103334   1865-01-23_orders_000 1865-01-01 1865-01-23   orders   \n",
       "\n",
       "                                                   header  \\\n",
       "0       The National crisis.particulars of the evacuat...   \n",
       "1       [from the Charleston courier, of Friday.]Fort ...   \n",
       "2                               Death of Commodore Platt.   \n",
       "3       Death of the last survivor of the battle of Bu...   \n",
       "4                                Christmas in Charleston.   \n",
       "...                                                   ...   \n",
       "103330  Treasury Department,Confederate States of Amer...   \n",
       "103331  Treasury Department,Confederate States of Amer...   \n",
       "103332  Treasury Department, Confederate States of Ame...   \n",
       "103333  Treasury Department,Confederate States of Amer...   \n",
       "103334  Treasury Department,Confederate States of Amer...   \n",
       "\n",
       "                                                     text  \\\n",
       "0       The National crisis. particulars of the evacua...   \n",
       "1       [from the Charleston courier, of Friday.] Fort...   \n",
       "2       Death of Commodore Platt.;;; Another of our mo...   \n",
       "3       Death of the last survivor of the battle of Bu...   \n",
       "4       Christmas in Charleston.;;; --It seemed, on Tu...   \n",
       "...                                                   ...   \n",
       "103330  Treasury Department, Confederate States of Ame...   \n",
       "103331  Treasury Department, Confederate States of Ame...   \n",
       "103332  Treasury Department, Confederate States of Ame...   \n",
       "103333  Treasury Department, Confederate States of Ame...   \n",
       "103334  Treasury Department, Confederate States of Ame...   \n",
       "\n",
       "                                                 textData  \n",
       "0       the national crisis particulars of the evacuat...  \n",
       "1        from the charleston courier of friday fort mo...  \n",
       "2       death of commodore platt another of our most e...  \n",
       "3       death of the last survivor of the battle of bu...  \n",
       "4       christmas in charleston it seemed on tuesday a...  \n",
       "...                                                   ...  \n",
       "103330  treasury department confederate states of amer...  \n",
       "103331  treasury department confederate states of amer...  \n",
       "103332  treasury department confederate states of amer...  \n",
       "103333  treasury department confederate states of amer...  \n",
       "103334  treasury department confederate states of amer...  \n",
       "\n",
       "[103335 rows x 7 columns]"
      ]
     },
     "execution_count": 21,
     "metadata": {},
     "output_type": "execute_result"
    }
   ],
   "source": [
    "%%time\n",
    "dispatch_light[\"textData\"] = dispatch_light[\"text\"]\n",
    "dispatch_light[\"textData\"] = [re.sub(\"\\W+\", \" \", str(i).lower()) for i in dispatch_light[\"textData\"]]\n",
    "dispatch_light[\"textData\"] = [re.sub(\" +\", \" \", str(i).lower()) for i in dispatch_light[\"textData\"]]\n",
    "\n",
    "dispatch_light"
   ]
  },
  {
   "cell_type": "code",
   "execution_count": 22,
   "metadata": {},
   "outputs": [
    {
     "data": {
      "text/plain": [
       "'the national crisis particulars of the evacuation and occupation of fort moultrie resignation of secretary floyd amp c amp c amp c the washington constitution of yesterday announces that the resignation of hon john b floyd secretary of war was tendered on saturday and accepted by the president the star of the evening before foreshadowing this result says the on dit of the day immediately around us is that secretaries floyd thompson and thomas all of whom believe in the alleged constitutional right of secession it will be remembered have formally notified the president that they will resign their respective portfolios unless he accede to the demand of the south carolina commissioners that orders shall be issued to major anderson directing him to go back to fort moultrie from fort sumter with all his force of course thus shadowing the latter to the this rumor is probably true we may not inappropriately add that if such orders are issued to major anderson secretaries toney holt black and stanton will probably resign but we have not the least idea that the president will accommodate the secession commissioners in this connection none whatever '"
      ]
     },
     "execution_count": 22,
     "metadata": {},
     "output_type": "execute_result"
    }
   ],
   "source": [
    "dispatch_light[\"textData\"][0]"
   ]
  },
  {
   "cell_type": "code",
   "execution_count": 23,
   "metadata": {},
   "outputs": [
    {
     "data": {
      "text/plain": [
       "'The National crisis. particulars of the evacuation and occupation of Fort Moultrie. resignation of Secretary Floyd. &amp;c., &amp;c., &amp;c.;;; The Washington Constitution of yesterday announces that the resignation of Hon. John B. Floyd, Secretary of War, was tendered on Saturday, and accepted by the President.--The Star of the evening before, foreshadowing this result, says:;;; The on dit of the day, immediately around us is, that Secretaries Floyd, Thompson, and Thomas, all of whom believe in the alleged constitutional right of secession, it will be remembered, have formally notified the President that they will resign their respective portfolios unless he accede to the demand of the South Carolina Commissioners, that orders shall be issued to Major Anderson directing him to go back to Fort Moultrie from Fort Sumter, with all his force — of course thus shadowing the latter to the --This rumor is probably true.;;; we may not inappropriately add, that if such orders are issued to Major Anderson. Secretaries Toney, Holt, Black and Stanton will probably resign.;;; But we have not the least idea that the President will accommodate the secession commissioners in this connection — none whatever.'"
      ]
     },
     "execution_count": 23,
     "metadata": {},
     "output_type": "execute_result"
    }
   ],
   "source": [
    "dispatch_light[\"text\"][0]"
   ]
  },
  {
   "cell_type": "markdown",
   "metadata": {},
   "source": [
    "# Tokenize and Clean Texts "
   ]
  },
  {
   "cell_type": "markdown",
   "metadata": {},
   "source": [
    "Tokenization is essentially splitting of text (i.e., an uninterrupted string of characters) into a `list` of tokens (which in English corresponds to words). This operation may take some time, so be patient."
   ]
  },
  {
   "cell_type": "code",
   "execution_count": 24,
   "metadata": {},
   "outputs": [
    {
     "name": "stdout",
     "output_type": "stream",
     "text": [
      "CPU times: user 41 s, sys: 1.16 s, total: 42.1 s\n",
      "Wall time: 42.7 s\n"
     ]
    }
   ],
   "source": [
    "%%time\n",
    "def sent_to_words(sentences):\n",
    "    for sentence in sentences:\n",
    "        yield(gensim.utils.simple_preprocess(str(sentence), deacc=True))  # deacc=True removes punctuations\n",
    "\n",
    "dispatch_light[\"textDataLists\"] = list(sent_to_words(dispatch_light[\"textData\"].copy()))"
   ]
  },
  {
   "cell_type": "code",
   "execution_count": 25,
   "metadata": {},
   "outputs": [
    {
     "data": {
      "text/plain": [
       "0    [the, national, crisis, particulars, of, the, ...\n",
       "1    [from, the, charleston, courier, of, friday, f...\n",
       "2    [death, of, commodore, platt, another, of, our...\n",
       "3    [death, of, the, last, survivor, of, the, batt...\n",
       "4    [christmas, in, charleston, it, seemed, on, tu...\n",
       "Name: textDataLists, dtype: object"
      ]
     },
     "execution_count": 25,
     "metadata": {},
     "output_type": "execute_result"
    }
   ],
   "source": [
    "dispatch_light[\"textDataLists\"].head()"
   ]
  },
  {
   "cell_type": "code",
   "execution_count": 26,
   "metadata": {},
   "outputs": [
    {
     "name": "stdout",
     "output_type": "stream",
     "text": [
      "1860.;;; Stoves — Stoves.;;; 1860.;;; Wm. Sears Wood,;;; No. 6 Main street, near the Old Market.;;; Manufacturer, Wholesale and Retail Dealer in;;; Stoves, Ranges and Furnaces.;;; Mott 's Agricultural Boilers,;;; Tin and Sheet Iron Ware.;;; Copper Lightning Rods &amp;c., &amp;c.;;; Plumbing and Gas-Fitting, in all its branches;;; Jobbing promptly attended to.;;; Repairs for all kinds of Stoves, always on hand.;;; Roofing and Guttering;;; done in the city and country, in the best manner and at shortest notice.;;; se 26 --ts\n"
     ]
    }
   ],
   "source": [
    "print(dispatch_light[\"text\"][1001]) # our original text"
   ]
  },
  {
   "cell_type": "code",
   "execution_count": 27,
   "metadata": {},
   "outputs": [
    {
     "name": "stdout",
     "output_type": "stream",
     "text": [
      "['stoves', 'stoves', 'wm', 'sears', 'wood', 'no', 'main', 'street', 'near', 'the', 'old', 'market', 'manufacturer', 'wholesale', 'and', 'retail', 'dealer', 'in', 'stoves', 'ranges', 'and', 'furnaces', 'mott', 'agricultural', 'boilers', 'tin', 'and', 'sheet', 'iron', 'ware', 'copper', 'lightning', 'rods', 'amp', 'amp', 'plumbing', 'and', 'gas', 'fitting', 'in', 'all', 'its', 'branches', 'jobbing', 'promptly', 'attended', 'to', 'repairs', 'for', 'all', 'kinds', 'of', 'stoves', 'always', 'on', 'hand', 'roofing', 'and', 'guttering', 'done', 'in', 'the', 'city', 'and', 'country', 'in', 'the', 'best', 'manner', 'and', 'at', 'shortest', 'notice', 'se', 'ts']\n"
     ]
    }
   ],
   "source": [
    "print(dispatch_light[\"textDataLists\"][1001]) # our `listed` text"
   ]
  },
  {
   "cell_type": "markdown",
   "metadata": {},
   "source": [
    "# Creating a frequency list"
   ]
  },
  {
   "cell_type": "markdown",
   "metadata": {},
   "source": [
    "## Identifying stop words and low frequency words"
   ]
  },
  {
   "cell_type": "markdown",
   "metadata": {},
   "source": [
    "Why would we want/need to identify and remove these?"
   ]
  },
  {
   "cell_type": "code",
   "execution_count": 28,
   "metadata": {},
   "outputs": [
    {
     "name": "stdout",
     "output_type": "stream",
     "text": [
      "--------------------------------------------------\n",
      "frequency_list\n",
      "125904\n",
      "low_frequency_words\n",
      "63510\n",
      "--------------------------------------------------\n",
      "CPU times: user 5.08 s, sys: 647 ms, total: 5.73 s\n",
      "Wall time: 6.08 s\n"
     ]
    }
   ],
   "source": [
    "%%time\n",
    "\n",
    "vocabList = [item for sublist in dispatch_light[\"textDataLists\"] for item in sublist]\n",
    "\n",
    "freqDic = {}\n",
    "low_frequency_words = []\n",
    "\n",
    "# collecting frequencies, like we did before\n",
    "for v in vocabList:\n",
    "    if v in freqDic:\n",
    "        freqDic[v] += 1\n",
    "    else:\n",
    "        freqDic[v]  = 1\n",
    "\n",
    "# reformatting collected results\n",
    "freqList = []\n",
    "for k,v in freqDic.items():\n",
    "    val = \"%09d\\t%s\\t0\" % (v, k)\n",
    "    freqList.append(val)\n",
    "    # the cutoff value for low frequency items should be determined through the distribution of frequencies\n",
    "    # but it is always safe to remove items that have frequency 1 (most likely typos)\n",
    "    if v <= 1:\n",
    "        low_frequency_words.append(k)\n",
    "\n",
    "with open(\"dispatch_freq_list.csv\", \"w\", encoding=\"utf8\") as f9:\n",
    "    f9.write(\"\\n\".join(sorted(freqList, reverse=True)))\n",
    "\n",
    "print(\"-\"*50)\n",
    "print(\"frequency_list\")\n",
    "print(len(freqList))    \n",
    "print(\"low_frequency_words\")\n",
    "print(len(low_frequency_words))\n",
    "print(\"-\"*50)"
   ]
  },
  {
   "cell_type": "code",
   "execution_count": 29,
   "metadata": {},
   "outputs": [
    {
     "name": "stdout",
     "output_type": "stream",
     "text": [
      "['demirep', 'mobillans', 'mafflin', 'buem', 'jankins', 'quartes', 'kobinson', 'crittendon', 'fortres', 'maryck', 'revivify', 'barwall', 'mazyek', 'krarney', 'seannell', 'labouchere', 'tiensin', 'molis', 'attendez', 'avet', 'plaisir', 'gossipped', 'capul', 'barustoff', 'ciœsus', 'heanan', 'pefore', 'telion', 'blace', 'zooper', 'chermania', 'zerenates', 'vish', 'proun', 'harolds', 'slungshotted', 'gratied', 'substanated', 'medicin', 'menoned', 'litzinger', 'pingitsville', 'griffithville', 'savoie', 'neri', 'touchhole', 'hydrogenated', 'begbie', 'bookbindery', 'moxan', 'vaillant', 'barocke', 'siza', 'benedek', 'dapples', 'lausanne', 'chur', 'lombards', 'crajona', 'jassy', 'atholi', 'travesties', 'fils', 'enfante', 'numismatic', 'nagurs', 'rubic', 'sorcke', 'execu', 'dabner', 'whitting', 'osward', 'usquhart', 'alvoy', 'hobbed', 'quatlebaum', 'memmimger', 'wardleman', 'fluidal', 'shirtless', 'milledonville', 'porteress', 'augennes', 'whimper', 'oppressiveness', 'impenetrably', 'participancy', 'guitierrez', 'flavana', 'gillins', 'myles', 'burkhardt', 'steene', 'geographized', 'dyck', 'willingto', 'eunace', 'embezzler', 'doswells', 'staflord']\n"
     ]
    }
   ],
   "source": [
    "print(low_frequency_words[100:200])"
   ]
  },
  {
   "cell_type": "markdown",
   "metadata": {},
   "source": [
    "After this, you can work through the generated frequency list and mark those that you want to consider stop words in the third column by changing `0` to `1`. After that, we can use this file to load stop words and you will have, in case you want to reconsider what counts as a stop word. This approach will allow you to adjust your stop word list based on your corpus.\n",
    "\n",
    "You should rename the frequency file so that it does not get overwritten when you re-run the script. For example, into `dispatch_freq_list_manual.csv`. "
   ]
  },
  {
   "cell_type": "code",
   "execution_count": 31,
   "metadata": {},
   "outputs": [
    {
     "name": "stdout",
     "output_type": "stream",
     "text": [
      "['only', 'or', \"doesn't\", 'there', 'under', 'most', 'further', 'mustn', 'd', 'and', 'but', 'should', \"you're\", \"mightn't\", 'few', 't', 'this', 'his', 'ours', 'for', 'be', \"should've\", 're', 'not', \"wasn't\", 'did', 'them', 'ain', \"isn't\", 'who', 'their', 'a', 've', 'are', 'ourselves', 'she', 'me', 'its', 'some', 'will', 'her', 'so', 'isn', 'our', 'above', 'y', 'hers', 'him', 'am', 'is', 'no', 'more', 'any', \"you've\", 'what', 'have', 'yourselves', 'herself', 'can', \"weren't\", 'which', 'why', \"wouldn't\", 'they', 'where', 'm', \"didn't\", 'had', 'other', \"shouldn't\", 'himself', 'doing', \"hadn't\", 'you', 'between', 'shan', 'themselves', 'through', 'wasn', 'own', 'do', 'off', 'an', 'those', 'whom', 'were', 'my', 'down', 'each', 'i', 'such', 'hasn', 'up', 'just', \"you'll\", 'we', 'of', 'when', 'o', 'with', 'during', \"that'll\", 'over', 'once', 'nor', 'll', 'shouldn', 'too', 'before', 'both', 'myself', \"aren't\", 'below', \"won't\", 'as', 'about', 'couldn', 'it', \"shan't\", 'being', 'he', 'that', 'does', 'very', 'ma', 'again', \"needn't\", 'don', 'was', 'how', \"don't\", \"you'd\", 'now', 'against', \"mustn't\", 'yours', 'same', 'aren', 'at', 'weren', 'itself', 'won', 'been', 'then', 'didn', 'having', 'because', 'mightn', 'haven', 'your', 'if', 'on', 'until', \"couldn't\", 'than', 'wouldn', 'yourself', 'by', 'after', 'while', 'out', 'these', \"hasn't\", 'theirs', 'to', 'all', 'hadn', 'has', 'into', 'in', \"she's\", 'needn', 'doesn', 'from', 's', \"haven't\", \"it's\", 'the', 'here']\n"
     ]
    }
   ],
   "source": [
    "with open(\"dispatch_freq_list_manual.csv\", \"r\", encoding=\"utf8\") as f1:\n",
    "    data = f1.read().split(\"\\n\")\n",
    "    \n",
    "    stop_words_custom = []\n",
    "    \n",
    "    for d in data:\n",
    "        d = d.split(\"\\t\")\n",
    "        if d[2] == \"1\":\n",
    "            stop_words_custom.append(d[1])\n",
    " \n",
    "stop_words_custom.extend(stop_words) # adding stop words from nltk\n",
    "stop_words_custom = list(set(stop_words_custom))\n",
    "\n",
    "print(stop_words_custom)"
   ]
  },
  {
   "cell_type": "markdown",
   "metadata": {},
   "source": [
    "**NB:** One can also add bigrams and trigrams into the mix, before running topic modeling."
   ]
  },
  {
   "cell_type": "markdown",
   "metadata": {},
   "source": [
    "I have already prepared stopwords, let's use it:"
   ]
  },
  {
   "cell_type": "code",
   "execution_count": 32,
   "metadata": {},
   "outputs": [],
   "source": [
    "stop_words_custom = [\"the\", \"of\", \"and\", \"to\", \"in\", \"a\", \"that\", \"for\", \"on\", \"was\", \"is\", \"at\", \"be\", \"by\",\n",
    "                   \"from\", \"his\", \"he\", \"it\", \"with\", \"as\", \"this\", \"will\", \"which\", \"have\", \"or\", \"are\",\n",
    "                   \"they\", \"their\", \"not\", \"were\", \"been\", \"has\", \"our\", \"we\", \"all\", \"but\", \"one\", \"had\",\n",
    "                   \"who\", \"an\", \"no\", \"i\", \"them\", \"about\", \"him\", \"two\", \"upon\", \"may\", \"there\", \"any\",\n",
    "                   \"some\", \"so\", \"men\", \"when\", \"if\", \"day\", \"her\", \"under\", \"would\", \"c\", \"such\", \"made\",\n",
    "                   \"up\", \"last\", \"j\", \"time\", \"years\", \"other\", \"into\", \"said\", \"new\", \"very\", \"five\",\n",
    "                   \"after\", \"out\", \"these\", \"shall\", \"my\", \"w\", \"more\", \"its\", \"now\", \"before\", \"three\",\n",
    "                   \"m\", \"than\", \"h\", \"o'clock\", \"old\", \"being\", \"left\", \"can\", \"s\", \"man\", \"only\", \"same\",\n",
    "                   \"act\", \"first\", \"between\", \"above\", \"she\", \"you\", \"place\", \"following\", \"do\", \"per\",\n",
    "                   \"every\", \"most\", \"near\", \"us\", \"good\", \"should\", \"having\", \"great\", \"also\", \"over\",\n",
    "                   \"r\", \"could\", \"twenty\", \"people\", \"those\", \"e\", \"without\", \"four\", \"received\", \"p\", \"then\",\n",
    "                   \"what\", \"well\", \"where\", \"must\", \"says\", \"g\", \"large\", \"against\", \"back\", \"000\", \"through\",\n",
    "                   \"b\", \"off\", \"few\", \"me\", \"sent\", \"while\", \"make\", \"number\", \"many\", \"much\", \"give\",\n",
    "                   \"1\", \"six\", \"down\", \"several\", \"high\", \"since\", \"little\", \"during\", \"away\", \"until\",\n",
    "                   \"each\", \"5\", \"year\", \"present\", \"own\", \"t\", \"here\", \"d\", \"found\", \"reported\", \"2\",\n",
    "                   \"right\", \"given\", \"age\", \"your\", \"way\", \"side\", \"did\", \"part\", \"long\", \"next\", \"fifty\",\n",
    "                   \"another\", \"1st\", \"whole\", \"10\", \"still\", \"among\", \"3\", \"within\", \"get\", \"named\", \"f\",\n",
    "                   \"l\", \"himself\", \"ten\", \"both\", \"nothing\", \"again\", \"n\", \"thirty\", \"eight\", \"took\",\n",
    "                   \"never\", \"came\", \"called\", \"small\", \"passed\", \"just\", \"brought\", \"4\", \"further\",\n",
    "                   \"yet\", \"half\", \"far\", \"held\", \"soon\", \"main\", \"8\", \"second\", \"however\", \"say\",\n",
    "                   \"heavy\", \"thus\", \"hereby\", \"even\", \"ran\", \"come\", \"whom\", \"like\", \"cannot\", \"head\",\n",
    "                   \"ever\", \"themselves\", \"put\", \"12\", \"cause\", \"known\", \"7\", \"go\", \"6\", \"once\", \"therefore\",\n",
    "                   \"thursday\", \"full\", \"apply\", \"see\", \"though\", \"seven\", \"tuesday\", \"11\", \"done\",\n",
    "                   \"whose\", \"let\", \"how\", \"making\", \"immediately\", \"forty\", \"early\", \"wednesday\",\n",
    "                   \"either\", \"too\", \"amount\", \"fact\", \"heard\", \"receive\", \"short\", \"less\", \"100\",\n",
    "                   \"know\", \"might\", \"except\", \"supposed\", \"others\", \"doubt\", \"set\", \"works\"]"
   ]
  },
  {
   "cell_type": "markdown",
   "metadata": {},
   "source": [
    "# Text cleaning"
   ]
  },
  {
   "cell_type": "code",
   "execution_count": 33,
   "metadata": {},
   "outputs": [],
   "source": [
    "def remove_words(texts, word_list_filter):\n",
    "    return [[word for word in simple_preprocess(str(doc)) if word not in word_list_filter] for doc in texts]"
   ]
  },
  {
   "cell_type": "markdown",
   "metadata": {},
   "source": [
    "Removing `low_frequency_words` is going to take a while, so it is currently commented out. You can run this at home. (**Note**: low frequency words should not be a problem in our case --- they will simply be ignored since they are used only in single texts; expanding the stop word list should be more helpful, since stop words have extremely high frequencies.)"
   ]
  },
  {
   "cell_type": "code",
   "execution_count": null,
   "metadata": {},
   "outputs": [],
   "source": [
    "%%time\n",
    "dispatch_light[\"textDataListsFiltered\"] = remove_words(dispatch_light[\"textDataLists\"], stop_words_custom)\n",
    "#dispatch_light[\"textDataListsFiltered\"] = remove_words(dispatch_light[\"textDataListsFiltered\"], low_frequency_words)"
   ]
  },
  {
   "cell_type": "code",
   "execution_count": 35,
   "metadata": {},
   "outputs": [
    {
     "data": {
      "text/plain": [
       "0    [the, national, crisis, particulars, of, the, ...\n",
       "1    [from, the, charleston, courier, of, friday, f...\n",
       "2    [death, of, commodore, platt, another, of, our...\n",
       "3    [death, of, the, last, survivor, of, the, batt...\n",
       "4    [christmas, in, charleston, it, seemed, on, tu...\n",
       "Name: textDataLists, dtype: object"
      ]
     },
     "execution_count": 35,
     "metadata": {},
     "output_type": "execute_result"
    }
   ],
   "source": [
    "dispatch_light[\"textDataLists\"].head(5)"
   ]
  },
  {
   "cell_type": "code",
   "execution_count": 36,
   "metadata": {},
   "outputs": [
    {
     "data": {
      "text/plain": [
       "0    [national, crisis, particulars, evacuation, oc...\n",
       "1    [charleston, courier, friday, fort, moultrie, ...\n",
       "2    [death, commodore, platt, eminent, public, ser...\n",
       "3    [death, survivor, battle, bunker, hill, ralph,...\n",
       "4    [christmas, charleston, seemed, elements, cons...\n",
       "Name: textDataListsFiltered, dtype: object"
      ]
     },
     "execution_count": 36,
     "metadata": {},
     "output_type": "execute_result"
    }
   ],
   "source": [
    "dispatch_light[\"textDataListsFiltered\"].head(5)"
   ]
  },
  {
   "cell_type": "markdown",
   "metadata": {},
   "source": [
    "# Saving intermediate results"
   ]
  },
  {
   "cell_type": "markdown",
   "metadata": {},
   "source": [
    "It makes sense to store results of some expensive preprocessing, so that you do not have to rerun highly time-costly operartions again and again."
   ]
  },
  {
   "cell_type": "code",
   "execution_count": 37,
   "metadata": {},
   "outputs": [],
   "source": [
    "dispatch_light.to_csv(\"./Dispatch_Processed_TSV/Dispatch_Light_Preprocessed.tsv\", sep=\"\\t\", index=False)"
   ]
  },
  {
   "cell_type": "markdown",
   "metadata": {},
   "source": [
    "This spot will now become our new starting point."
   ]
  }
 ],
 "metadata": {
  "kernelspec": {
   "display_name": "Python 3",
   "language": "python",
   "name": "python3"
  },
  "language_info": {
   "codemirror_mode": {
    "name": "ipython",
    "version": 3
   },
   "file_extension": ".py",
   "mimetype": "text/x-python",
   "name": "python",
   "nbconvert_exporter": "python",
   "pygments_lexer": "ipython3",
   "version": "3.8.8"
  }
 },
 "nbformat": 4,
 "nbformat_minor": 2
}
